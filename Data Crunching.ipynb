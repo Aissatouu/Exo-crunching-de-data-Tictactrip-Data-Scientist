{
 "cells": [
  {
   "cell_type": "markdown",
   "metadata": {},
   "source": [
    "## Importation des librairies"
   ]
  },
  {
   "cell_type": "code",
   "execution_count": 81,
   "metadata": {},
   "outputs": [],
   "source": [
    "import pandas as pd\n",
    "import numpy as np\n",
    "import matplotlib.pyplot as plt \n",
    "plt.style.use('seaborn') \n",
    "from sklearn.model_selection import train_test_split\n",
    "import seaborn as sns\n",
    "from sklearn.linear_model import LinearRegression\n",
    "from sklearn.svm import SVR\n",
    "from sklearn.metrics import mean_squared_error\n",
    "import math\n",
    "from sklearn.tree import DecisionTreeRegressor  "
   ]
  },
  {
   "cell_type": "code",
   "execution_count": 2,
   "metadata": {},
   "outputs": [],
   "source": [
    "import warnings\n",
    "warnings.filterwarnings('ignore')"
   ]
  },
  {
   "cell_type": "markdown",
   "metadata": {},
   "source": [
    "## Importation des données"
   ]
  },
  {
   "cell_type": "code",
   "execution_count": 3,
   "metadata": {},
   "outputs": [],
   "source": [
    "df_ticket = pd.read_csv('data/ticket_data.csv')\n",
    "df_cities = pd.read_csv('data/cities.csv')\n",
    "df_stations = pd.read_csv('data/stations.csv')\n",
    "df_providers = pd.read_csv('data/providers.csv')"
   ]
  },
  {
   "cell_type": "markdown",
   "metadata": {},
   "source": [
    "## 1) Informations sur les données"
   ]
  },
  {
   "cell_type": "markdown",
   "metadata": {},
   "source": [
    "### - Tickets"
   ]
  },
  {
   "cell_type": "code",
   "execution_count": 4,
   "metadata": {},
   "outputs": [
    {
     "data": {
      "text/plain": [
       "(74168, 12)"
      ]
     },
     "execution_count": 4,
     "metadata": {},
     "output_type": "execute_result"
    }
   ],
   "source": [
    "df_ticket.shape"
   ]
  },
  {
   "cell_type": "code",
   "execution_count": 5,
   "metadata": {},
   "outputs": [
    {
     "data": {
      "text/html": [
       "<div>\n",
       "<style scoped>\n",
       "    .dataframe tbody tr th:only-of-type {\n",
       "        vertical-align: middle;\n",
       "    }\n",
       "\n",
       "    .dataframe tbody tr th {\n",
       "        vertical-align: top;\n",
       "    }\n",
       "\n",
       "    .dataframe thead th {\n",
       "        text-align: right;\n",
       "    }\n",
       "</style>\n",
       "<table border=\"1\" class=\"dataframe\">\n",
       "  <thead>\n",
       "    <tr style=\"text-align: right;\">\n",
       "      <th></th>\n",
       "      <th>id</th>\n",
       "      <th>company</th>\n",
       "      <th>o_station</th>\n",
       "      <th>d_station</th>\n",
       "      <th>departure_ts</th>\n",
       "      <th>arrival_ts</th>\n",
       "      <th>price_in_cents</th>\n",
       "      <th>search_ts</th>\n",
       "      <th>middle_stations</th>\n",
       "      <th>other_companies</th>\n",
       "      <th>o_city</th>\n",
       "      <th>d_city</th>\n",
       "    </tr>\n",
       "  </thead>\n",
       "  <tbody>\n",
       "    <tr>\n",
       "      <th>69237</th>\n",
       "      <td>6864261</td>\n",
       "      <td>8385</td>\n",
       "      <td>NaN</td>\n",
       "      <td>NaN</td>\n",
       "      <td>2017-10-20 15:30:00+00</td>\n",
       "      <td>2017-10-20 21:30:00+00</td>\n",
       "      <td>4050</td>\n",
       "      <td>2017-10-18 13:17:46.386+00</td>\n",
       "      <td>NaN</td>\n",
       "      <td>NaN</td>\n",
       "      <td>628</td>\n",
       "      <td>317</td>\n",
       "    </tr>\n",
       "    <tr>\n",
       "      <th>52166</th>\n",
       "      <td>6847191</td>\n",
       "      <td>8385</td>\n",
       "      <td>NaN</td>\n",
       "      <td>NaN</td>\n",
       "      <td>2017-10-22 18:30:00+00</td>\n",
       "      <td>2017-10-22 23:40:00+00</td>\n",
       "      <td>4050</td>\n",
       "      <td>2017-10-14 12:04:54.902+00</td>\n",
       "      <td>NaN</td>\n",
       "      <td>NaN</td>\n",
       "      <td>5520</td>\n",
       "      <td>628</td>\n",
       "    </tr>\n",
       "    <tr>\n",
       "      <th>35576</th>\n",
       "      <td>6830601</td>\n",
       "      <td>8385</td>\n",
       "      <td>NaN</td>\n",
       "      <td>NaN</td>\n",
       "      <td>2017-10-15 11:10:00+00</td>\n",
       "      <td>2017-10-15 14:50:00+00</td>\n",
       "      <td>2400</td>\n",
       "      <td>2017-10-10 07:30:10.809+00</td>\n",
       "      <td>NaN</td>\n",
       "      <td>NaN</td>\n",
       "      <td>562</td>\n",
       "      <td>126</td>\n",
       "    </tr>\n",
       "  </tbody>\n",
       "</table>\n",
       "</div>"
      ],
      "text/plain": [
       "            id  company  o_station  d_station            departure_ts  \\\n",
       "69237  6864261     8385        NaN        NaN  2017-10-20 15:30:00+00   \n",
       "52166  6847191     8385        NaN        NaN  2017-10-22 18:30:00+00   \n",
       "35576  6830601     8385        NaN        NaN  2017-10-15 11:10:00+00   \n",
       "\n",
       "                   arrival_ts  price_in_cents                   search_ts  \\\n",
       "69237  2017-10-20 21:30:00+00            4050  2017-10-18 13:17:46.386+00   \n",
       "52166  2017-10-22 23:40:00+00            4050  2017-10-14 12:04:54.902+00   \n",
       "35576  2017-10-15 14:50:00+00            2400  2017-10-10 07:30:10.809+00   \n",
       "\n",
       "      middle_stations other_companies  o_city  d_city  \n",
       "69237             NaN             NaN     628     317  \n",
       "52166             NaN             NaN    5520     628  \n",
       "35576             NaN             NaN     562     126  "
      ]
     },
     "execution_count": 5,
     "metadata": {},
     "output_type": "execute_result"
    }
   ],
   "source": [
    "df_ticket.sample(3)"
   ]
  },
  {
   "cell_type": "markdown",
   "metadata": {},
   "source": [
    "Ce dataframe contient les informations sur les tickets de voyage telles que la station, la ville et l'heure où le voyageur a pris départ. Egalement nous retrouvons, la compagnie de transport qu'il a utilisé, les gares éventuelles où il est passé et d'autres compagnies qu'il a aussi potentiellement utilisé pour arriver à la station et ville de destination avec la précision de l'heure d'arrivée. Nous avons également dans les données le prix du ticket en cent et la date et l'heure de recherche de l'itinéraire. Enfin chaque donnée est identifiée de façon unique par un id."
   ]
  },
  {
   "cell_type": "code",
   "execution_count": 6,
   "metadata": {},
   "outputs": [
    {
     "name": "stdout",
     "output_type": "stream",
     "text": [
      "<class 'pandas.core.frame.DataFrame'>\n",
      "RangeIndex: 74168 entries, 0 to 74167\n",
      "Data columns (total 12 columns):\n",
      " #   Column           Non-Null Count  Dtype  \n",
      "---  ------           --------------  -----  \n",
      " 0   id               74168 non-null  int64  \n",
      " 1   company          74168 non-null  int64  \n",
      " 2   o_station        32727 non-null  float64\n",
      " 3   d_station        32727 non-null  float64\n",
      " 4   departure_ts     74168 non-null  object \n",
      " 5   arrival_ts       74168 non-null  object \n",
      " 6   price_in_cents   74168 non-null  int64  \n",
      " 7   search_ts        74168 non-null  object \n",
      " 8   middle_stations  32727 non-null  object \n",
      " 9   other_companies  32727 non-null  object \n",
      " 10  o_city           74168 non-null  int64  \n",
      " 11  d_city           74168 non-null  int64  \n",
      "dtypes: float64(2), int64(5), object(5)\n",
      "memory usage: 6.8+ MB\n"
     ]
    }
   ],
   "source": [
    "df_ticket.info()"
   ]
  },
  {
   "cell_type": "code",
   "execution_count": 7,
   "metadata": {},
   "outputs": [
    {
     "data": {
      "text/plain": [
       "id                     0\n",
       "company                0\n",
       "o_station          41441\n",
       "d_station          41441\n",
       "departure_ts           0\n",
       "arrival_ts             0\n",
       "price_in_cents         0\n",
       "search_ts              0\n",
       "middle_stations    41441\n",
       "other_companies    41441\n",
       "o_city                 0\n",
       "d_city                 0\n",
       "dtype: int64"
      ]
     },
     "execution_count": 7,
     "metadata": {},
     "output_type": "execute_result"
    }
   ],
   "source": [
    "df_ticket.isnull().sum()"
   ]
  },
  {
   "cell_type": "markdown",
   "metadata": {},
   "source": [
    "- Les attributs de temps n'ont pas le type adéquat, il faudra les transformer au préalable avant de pouvoir en tirer des informations utiles\n",
    "- Plus de la moitié des tickets achetés ne présentent pas la mention des stations de départ et celles d'arrivée. \n",
    "- Il en est de même pour les stations intermédiaires."
   ]
  },
  {
   "cell_type": "markdown",
   "metadata": {},
   "source": [
    "### - Cities"
   ]
  },
  {
   "cell_type": "code",
   "execution_count": 8,
   "metadata": {},
   "outputs": [
    {
     "data": {
      "text/plain": [
       "(8040, 6)"
      ]
     },
     "execution_count": 8,
     "metadata": {},
     "output_type": "execute_result"
    }
   ],
   "source": [
    "df_cities.shape"
   ]
  },
  {
   "cell_type": "code",
   "execution_count": 9,
   "metadata": {},
   "outputs": [
    {
     "data": {
      "text/html": [
       "<div>\n",
       "<style scoped>\n",
       "    .dataframe tbody tr th:only-of-type {\n",
       "        vertical-align: middle;\n",
       "    }\n",
       "\n",
       "    .dataframe tbody tr th {\n",
       "        vertical-align: top;\n",
       "    }\n",
       "\n",
       "    .dataframe thead th {\n",
       "        text-align: right;\n",
       "    }\n",
       "</style>\n",
       "<table border=\"1\" class=\"dataframe\">\n",
       "  <thead>\n",
       "    <tr style=\"text-align: right;\">\n",
       "      <th></th>\n",
       "      <th>id</th>\n",
       "      <th>local_name</th>\n",
       "      <th>unique_name</th>\n",
       "      <th>latitude</th>\n",
       "      <th>longitude</th>\n",
       "      <th>population</th>\n",
       "    </tr>\n",
       "  </thead>\n",
       "  <tbody>\n",
       "    <tr>\n",
       "      <th>7078</th>\n",
       "      <td>10568</td>\n",
       "      <td>Bar, Opština Bar, Црна Гора / Crna Gora</td>\n",
       "      <td>bar</td>\n",
       "      <td>42.097974</td>\n",
       "      <td>19.095453</td>\n",
       "      <td>NaN</td>\n",
       "    </tr>\n",
       "    <tr>\n",
       "      <th>126</th>\n",
       "      <td>1797</td>\n",
       "      <td>Jimbolia, Timiș, România</td>\n",
       "      <td>jimbolia</td>\n",
       "      <td>45.791462</td>\n",
       "      <td>20.718092</td>\n",
       "      <td>NaN</td>\n",
       "    </tr>\n",
       "    <tr>\n",
       "      <th>6324</th>\n",
       "      <td>6852</td>\n",
       "      <td>Herrlisheim, Grand-Est, France</td>\n",
       "      <td>herrlisheim</td>\n",
       "      <td>48.727800</td>\n",
       "      <td>7.910200</td>\n",
       "      <td>NaN</td>\n",
       "    </tr>\n",
       "  </tbody>\n",
       "</table>\n",
       "</div>"
      ],
      "text/plain": [
       "         id                               local_name  unique_name   latitude  \\\n",
       "7078  10568  Bar, Opština Bar, Црна Гора / Crna Gora          bar  42.097974   \n",
       "126    1797                 Jimbolia, Timiș, România     jimbolia  45.791462   \n",
       "6324   6852           Herrlisheim, Grand-Est, France  herrlisheim  48.727800   \n",
       "\n",
       "      longitude  population  \n",
       "7078  19.095453         NaN  \n",
       "126   20.718092         NaN  \n",
       "6324   7.910200         NaN  "
      ]
     },
     "execution_count": 9,
     "metadata": {},
     "output_type": "execute_result"
    }
   ],
   "source": [
    "df_cities.sample(3)"
   ]
  },
  {
   "cell_type": "markdown",
   "metadata": {},
   "source": [
    "Nous retrouvons ici les informations sur les différentes villes convertes par les compagnies de transport. Chaque ville est identifiée de manière unique et est caractérisée par son nom local, son nom unique, ses coordonnées géographiques(latitude et longitude) ainsi que la taille de sa population."
   ]
  },
  {
   "cell_type": "code",
   "execution_count": 10,
   "metadata": {},
   "outputs": [
    {
     "name": "stdout",
     "output_type": "stream",
     "text": [
      "<class 'pandas.core.frame.DataFrame'>\n",
      "RangeIndex: 8040 entries, 0 to 8039\n",
      "Data columns (total 6 columns):\n",
      " #   Column       Non-Null Count  Dtype  \n",
      "---  ------       --------------  -----  \n",
      " 0   id           8040 non-null   int64  \n",
      " 1   local_name   8040 non-null   object \n",
      " 2   unique_name  8039 non-null   object \n",
      " 3   latitude     8040 non-null   float64\n",
      " 4   longitude    8040 non-null   float64\n",
      " 5   population   369 non-null    float64\n",
      "dtypes: float64(3), int64(1), object(2)\n",
      "memory usage: 377.0+ KB\n"
     ]
    }
   ],
   "source": [
    "df_cities.info()"
   ]
  },
  {
   "cell_type": "code",
   "execution_count": 11,
   "metadata": {},
   "outputs": [
    {
     "data": {
      "text/plain": [
       "id                0\n",
       "local_name        0\n",
       "unique_name       1\n",
       "latitude          0\n",
       "longitude         0\n",
       "population     7671\n",
       "dtype: int64"
      ]
     },
     "execution_count": 11,
     "metadata": {},
     "output_type": "execute_result"
    }
   ],
   "source": [
    "df_cities.isnull().sum()"
   ]
  },
  {
   "cell_type": "markdown",
   "metadata": {},
   "source": [
    "- La dénominaion unique d'une seule ville est manquante. \n",
    "- Cependant peu de populations sont renseignées (4.6%)"
   ]
  },
  {
   "cell_type": "code",
   "execution_count": 12,
   "metadata": {},
   "outputs": [
    {
     "data": {
      "text/html": [
       "<div>\n",
       "<style scoped>\n",
       "    .dataframe tbody tr th:only-of-type {\n",
       "        vertical-align: middle;\n",
       "    }\n",
       "\n",
       "    .dataframe tbody tr th {\n",
       "        vertical-align: top;\n",
       "    }\n",
       "\n",
       "    .dataframe thead th {\n",
       "        text-align: right;\n",
       "    }\n",
       "</style>\n",
       "<table border=\"1\" class=\"dataframe\">\n",
       "  <thead>\n",
       "    <tr style=\"text-align: right;\">\n",
       "      <th></th>\n",
       "      <th>id</th>\n",
       "      <th>latitude</th>\n",
       "      <th>longitude</th>\n",
       "      <th>population</th>\n",
       "    </tr>\n",
       "  </thead>\n",
       "  <tbody>\n",
       "    <tr>\n",
       "      <th>count</th>\n",
       "      <td>8040.000000</td>\n",
       "      <td>8040.000000</td>\n",
       "      <td>8040.000000</td>\n",
       "      <td>3.690000e+02</td>\n",
       "    </tr>\n",
       "    <tr>\n",
       "      <th>mean</th>\n",
       "      <td>6328.786816</td>\n",
       "      <td>47.223456</td>\n",
       "      <td>6.299331</td>\n",
       "      <td>3.360184e+05</td>\n",
       "    </tr>\n",
       "    <tr>\n",
       "      <th>std</th>\n",
       "      <td>3504.698537</td>\n",
       "      <td>3.700934</td>\n",
       "      <td>7.747070</td>\n",
       "      <td>5.840409e+05</td>\n",
       "    </tr>\n",
       "    <tr>\n",
       "      <th>min</th>\n",
       "      <td>1.000000</td>\n",
       "      <td>1.370676</td>\n",
       "      <td>-101.397388</td>\n",
       "      <td>1.000460e+05</td>\n",
       "    </tr>\n",
       "    <tr>\n",
       "      <th>25%</th>\n",
       "      <td>2501.500000</td>\n",
       "      <td>44.662402</td>\n",
       "      <td>1.214282</td>\n",
       "      <td>1.253750e+05</td>\n",
       "    </tr>\n",
       "    <tr>\n",
       "      <th>50%</th>\n",
       "      <td>7003.500000</td>\n",
       "      <td>47.304750</td>\n",
       "      <td>4.887856</td>\n",
       "      <td>1.803020e+05</td>\n",
       "    </tr>\n",
       "    <tr>\n",
       "      <th>75%</th>\n",
       "      <td>9014.250000</td>\n",
       "      <td>49.611998</td>\n",
       "      <td>10.311597</td>\n",
       "      <td>3.098690e+05</td>\n",
       "    </tr>\n",
       "    <tr>\n",
       "      <th>max</th>\n",
       "      <td>12192.000000</td>\n",
       "      <td>64.145981</td>\n",
       "      <td>48.731938</td>\n",
       "      <td>8.416535e+06</td>\n",
       "    </tr>\n",
       "  </tbody>\n",
       "</table>\n",
       "</div>"
      ],
      "text/plain": [
       "                 id     latitude    longitude    population\n",
       "count   8040.000000  8040.000000  8040.000000  3.690000e+02\n",
       "mean    6328.786816    47.223456     6.299331  3.360184e+05\n",
       "std     3504.698537     3.700934     7.747070  5.840409e+05\n",
       "min        1.000000     1.370676  -101.397388  1.000460e+05\n",
       "25%     2501.500000    44.662402     1.214282  1.253750e+05\n",
       "50%     7003.500000    47.304750     4.887856  1.803020e+05\n",
       "75%     9014.250000    49.611998    10.311597  3.098690e+05\n",
       "max    12192.000000    64.145981    48.731938  8.416535e+06"
      ]
     },
     "execution_count": 12,
     "metadata": {},
     "output_type": "execute_result"
    }
   ],
   "source": [
    "df_cities.describe()"
   ]
  },
  {
   "cell_type": "markdown",
   "metadata": {},
   "source": [
    "### - Stations"
   ]
  },
  {
   "cell_type": "code",
   "execution_count": 13,
   "metadata": {},
   "outputs": [
    {
     "data": {
      "text/plain": [
       "(11035, 4)"
      ]
     },
     "execution_count": 13,
     "metadata": {},
     "output_type": "execute_result"
    }
   ],
   "source": [
    "df_stations.shape"
   ]
  },
  {
   "cell_type": "code",
   "execution_count": 14,
   "metadata": {},
   "outputs": [
    {
     "data": {
      "text/html": [
       "<div>\n",
       "<style scoped>\n",
       "    .dataframe tbody tr th:only-of-type {\n",
       "        vertical-align: middle;\n",
       "    }\n",
       "\n",
       "    .dataframe tbody tr th {\n",
       "        vertical-align: top;\n",
       "    }\n",
       "\n",
       "    .dataframe thead th {\n",
       "        text-align: right;\n",
       "    }\n",
       "</style>\n",
       "<table border=\"1\" class=\"dataframe\">\n",
       "  <thead>\n",
       "    <tr style=\"text-align: right;\">\n",
       "      <th></th>\n",
       "      <th>id</th>\n",
       "      <th>unique_name</th>\n",
       "      <th>latitude</th>\n",
       "      <th>longitude</th>\n",
       "    </tr>\n",
       "  </thead>\n",
       "  <tbody>\n",
       "    <tr>\n",
       "      <th>10990</th>\n",
       "      <td>10992</td>\n",
       "      <td>Vittorio Veneto (via Giacomo Matteotti)</td>\n",
       "      <td>45.972842</td>\n",
       "      <td>12.309498</td>\n",
       "    </tr>\n",
       "    <tr>\n",
       "      <th>9071</th>\n",
       "      <td>9072</td>\n",
       "      <td>Göschenen Ausserdorf Busbahnhof</td>\n",
       "      <td>46.668140</td>\n",
       "      <td>8.589570</td>\n",
       "    </tr>\n",
       "    <tr>\n",
       "      <th>7651</th>\n",
       "      <td>7652</td>\n",
       "      <td>Saulon</td>\n",
       "      <td>47.224200</td>\n",
       "      <td>5.104820</td>\n",
       "    </tr>\n",
       "    <tr>\n",
       "      <th>389</th>\n",
       "      <td>390</td>\n",
       "      <td>Gare de Zweibrücken</td>\n",
       "      <td>49.247358</td>\n",
       "      <td>7.357167</td>\n",
       "    </tr>\n",
       "    <tr>\n",
       "      <th>6938</th>\n",
       "      <td>6939</td>\n",
       "      <td>Pont-de-la-Deûle</td>\n",
       "      <td>50.398140</td>\n",
       "      <td>3.085080</td>\n",
       "    </tr>\n",
       "  </tbody>\n",
       "</table>\n",
       "</div>"
      ],
      "text/plain": [
       "          id                              unique_name   latitude  longitude\n",
       "10990  10992  Vittorio Veneto (via Giacomo Matteotti)  45.972842  12.309498\n",
       "9071    9072          Göschenen Ausserdorf Busbahnhof  46.668140   8.589570\n",
       "7651    7652                                   Saulon  47.224200   5.104820\n",
       "389      390                      Gare de Zweibrücken  49.247358   7.357167\n",
       "6938    6939                         Pont-de-la-Deûle  50.398140   3.085080"
      ]
     },
     "execution_count": 14,
     "metadata": {},
     "output_type": "execute_result"
    }
   ],
   "source": [
    "df_stations.sample(5)"
   ]
  },
  {
   "cell_type": "markdown",
   "metadata": {},
   "source": [
    "Le dataframe df_stations décrit les différentes stations où chacune d'elle est identifiée de façon unique par un id. Ces dernières sont caractérisées par un nom unique et leur position géographique (latitude et longitude)."
   ]
  },
  {
   "cell_type": "code",
   "execution_count": 15,
   "metadata": {},
   "outputs": [
    {
     "name": "stdout",
     "output_type": "stream",
     "text": [
      "<class 'pandas.core.frame.DataFrame'>\n",
      "RangeIndex: 11035 entries, 0 to 11034\n",
      "Data columns (total 4 columns):\n",
      " #   Column       Non-Null Count  Dtype  \n",
      "---  ------       --------------  -----  \n",
      " 0   id           11035 non-null  int64  \n",
      " 1   unique_name  11035 non-null  object \n",
      " 2   latitude     11035 non-null  float64\n",
      " 3   longitude    11035 non-null  float64\n",
      "dtypes: float64(2), int64(1), object(1)\n",
      "memory usage: 345.0+ KB\n"
     ]
    }
   ],
   "source": [
    "df_stations.info()"
   ]
  },
  {
   "cell_type": "markdown",
   "metadata": {},
   "source": [
    "- Toutes les valeurs sont renseignées pour les stations"
   ]
  },
  {
   "cell_type": "markdown",
   "metadata": {},
   "source": [
    "### - Providers"
   ]
  },
  {
   "cell_type": "code",
   "execution_count": 16,
   "metadata": {},
   "outputs": [
    {
     "data": {
      "text/plain": [
       "(227, 10)"
      ]
     },
     "execution_count": 16,
     "metadata": {},
     "output_type": "execute_result"
    }
   ],
   "source": [
    "df_providers.shape"
   ]
  },
  {
   "cell_type": "code",
   "execution_count": 17,
   "metadata": {},
   "outputs": [
    {
     "data": {
      "text/html": [
       "<div>\n",
       "<style scoped>\n",
       "    .dataframe tbody tr th:only-of-type {\n",
       "        vertical-align: middle;\n",
       "    }\n",
       "\n",
       "    .dataframe tbody tr th {\n",
       "        vertical-align: top;\n",
       "    }\n",
       "\n",
       "    .dataframe thead th {\n",
       "        text-align: right;\n",
       "    }\n",
       "</style>\n",
       "<table border=\"1\" class=\"dataframe\">\n",
       "  <thead>\n",
       "    <tr style=\"text-align: right;\">\n",
       "      <th></th>\n",
       "      <th>id</th>\n",
       "      <th>company_id</th>\n",
       "      <th>provider_id</th>\n",
       "      <th>name</th>\n",
       "      <th>fullname</th>\n",
       "      <th>has_wifi</th>\n",
       "      <th>has_plug</th>\n",
       "      <th>has_adjustable_seats</th>\n",
       "      <th>has_bicycle</th>\n",
       "      <th>transport_type</th>\n",
       "    </tr>\n",
       "  </thead>\n",
       "  <tbody>\n",
       "    <tr>\n",
       "      <th>164</th>\n",
       "      <td>178</td>\n",
       "      <td>9</td>\n",
       "      <td>517</td>\n",
       "      <td>madeltransEurolines</td>\n",
       "      <td>Madeltrans Eurolines</td>\n",
       "      <td>False</td>\n",
       "      <td>False</td>\n",
       "      <td>False</td>\n",
       "      <td>False</td>\n",
       "      <td>bus</td>\n",
       "    </tr>\n",
       "    <tr>\n",
       "      <th>178</th>\n",
       "      <td>192</td>\n",
       "      <td>9</td>\n",
       "      <td>545</td>\n",
       "      <td>globtour</td>\n",
       "      <td>Globtour</td>\n",
       "      <td>False</td>\n",
       "      <td>False</td>\n",
       "      <td>False</td>\n",
       "      <td>False</td>\n",
       "      <td>bus</td>\n",
       "    </tr>\n",
       "    <tr>\n",
       "      <th>44</th>\n",
       "      <td>53</td>\n",
       "      <td>9</td>\n",
       "      <td>213</td>\n",
       "      <td>brabusz</td>\n",
       "      <td>Brabusz</td>\n",
       "      <td>False</td>\n",
       "      <td>False</td>\n",
       "      <td>False</td>\n",
       "      <td>False</td>\n",
       "      <td>bus</td>\n",
       "    </tr>\n",
       "    <tr>\n",
       "      <th>49</th>\n",
       "      <td>58</td>\n",
       "      <td>9</td>\n",
       "      <td>223</td>\n",
       "      <td>europabusCazin</td>\n",
       "      <td>Europabus Cazin</td>\n",
       "      <td>False</td>\n",
       "      <td>False</td>\n",
       "      <td>False</td>\n",
       "      <td>False</td>\n",
       "      <td>bus</td>\n",
       "    </tr>\n",
       "    <tr>\n",
       "      <th>209</th>\n",
       "      <td>8371</td>\n",
       "      <td>20</td>\n",
       "      <td>I</td>\n",
       "      <td>isilines</td>\n",
       "      <td>Isilines</td>\n",
       "      <td>True</td>\n",
       "      <td>True</td>\n",
       "      <td>True</td>\n",
       "      <td>False</td>\n",
       "      <td>bus</td>\n",
       "    </tr>\n",
       "  </tbody>\n",
       "</table>\n",
       "</div>"
      ],
      "text/plain": [
       "       id  company_id provider_id                 name              fullname  \\\n",
       "164   178           9         517  madeltransEurolines  Madeltrans Eurolines   \n",
       "178   192           9         545             globtour              Globtour   \n",
       "44     53           9         213              brabusz               Brabusz   \n",
       "49     58           9         223       europabusCazin       Europabus Cazin   \n",
       "209  8371          20           I             isilines              Isilines   \n",
       "\n",
       "    has_wifi has_plug has_adjustable_seats has_bicycle transport_type  \n",
       "164    False    False                False       False            bus  \n",
       "178    False    False                False       False            bus  \n",
       "44     False    False                False       False            bus  \n",
       "49     False    False                False       False            bus  \n",
       "209     True     True                 True       False            bus  "
      ]
     },
     "execution_count": 17,
     "metadata": {},
     "output_type": "execute_result"
    }
   ],
   "source": [
    "df_providers.sample(5)"
   ]
  },
  {
   "cell_type": "markdown",
   "metadata": {},
   "source": [
    "Les providers sont des sous-compagnies comme mentionné dans l'énoncé. Chaque provider possède un identifiant qui lui est propre, l'identifiant de sa compagnie mère ainsi qu'un identifiant qui représente la combinaison d'une compagnie avec chacun de ses providers. Les providers ont des caractéristiques telles qu'un nom et un nom complet. Les informations sur la présence de wifi, de prises, de sièges ajustables à bord des véhicules sont disponibles. Egalement nous avons la mention d'une présence d'un service de vélo et celle du type du véhicule de transport."
   ]
  },
  {
   "cell_type": "code",
   "execution_count": 18,
   "metadata": {},
   "outputs": [
    {
     "name": "stdout",
     "output_type": "stream",
     "text": [
      "<class 'pandas.core.frame.DataFrame'>\n",
      "RangeIndex: 227 entries, 0 to 226\n",
      "Data columns (total 10 columns):\n",
      " #   Column                Non-Null Count  Dtype \n",
      "---  ------                --------------  ----- \n",
      " 0   id                    227 non-null    int64 \n",
      " 1   company_id            227 non-null    int64 \n",
      " 2   provider_id           213 non-null    object\n",
      " 3   name                  227 non-null    object\n",
      " 4   fullname              227 non-null    object\n",
      " 5   has_wifi              224 non-null    object\n",
      " 6   has_plug              224 non-null    object\n",
      " 7   has_adjustable_seats  224 non-null    object\n",
      " 8   has_bicycle           224 non-null    object\n",
      " 9   transport_type        227 non-null    object\n",
      "dtypes: int64(2), object(8)\n",
      "memory usage: 17.9+ KB\n"
     ]
    }
   ],
   "source": [
    "df_providers.info()"
   ]
  },
  {
   "cell_type": "markdown",
   "metadata": {},
   "source": [
    "- Ici également presque toutes les données sur les providers sont remplies.\n",
    "- Seules 3 observations présentent des valeurs manquantes sur la présence de wifi, de prise, de sièges ajustables ou de vélo."
   ]
  },
  {
   "cell_type": "markdown",
   "metadata": {},
   "source": [
    "## 2) Extraction des informations"
   ]
  },
  {
   "cell_type": "markdown",
   "metadata": {},
   "source": [
    "### Prix minimum"
   ]
  },
  {
   "cell_type": "code",
   "execution_count": 19,
   "metadata": {},
   "outputs": [
    {
     "data": {
      "text/plain": [
       "300"
      ]
     },
     "execution_count": 19,
     "metadata": {},
     "output_type": "execute_result"
    }
   ],
   "source": [
    "df_ticket['price_in_cents'].min()"
   ]
  },
  {
   "cell_type": "markdown",
   "metadata": {},
   "source": [
    "### Prix moyen "
   ]
  },
  {
   "cell_type": "code",
   "execution_count": 20,
   "metadata": {},
   "outputs": [
    {
     "data": {
      "text/plain": [
       "4382.711061374178"
      ]
     },
     "execution_count": 20,
     "metadata": {},
     "output_type": "execute_result"
    }
   ],
   "source": [
    "df_ticket['price_in_cents'].mean()"
   ]
  },
  {
   "cell_type": "markdown",
   "metadata": {},
   "source": [
    "### Prix maximum"
   ]
  },
  {
   "cell_type": "code",
   "execution_count": 21,
   "metadata": {},
   "outputs": [
    {
     "data": {
      "text/plain": [
       "38550"
      ]
     },
     "execution_count": 21,
     "metadata": {},
     "output_type": "execute_result"
    }
   ],
   "source": [
    "df_ticket['price_in_cents'].max()"
   ]
  },
  {
   "cell_type": "markdown",
   "metadata": {},
   "source": [
    "- Ces informations sont aussi retrouvables directement avec la méthode describe. \n",
    "- La moyenne des prix des tickets est d'environ 44 euros, le ticket le moins cher étant à 3 euros et le moins élevé à environ 385 euros\n",
    "- Regardons la distribution des données de cette colonne avec un boxplot et un histogramme."
   ]
  },
  {
   "cell_type": "code",
   "execution_count": 22,
   "metadata": {},
   "outputs": [
    {
     "data": {
      "text/plain": [
       "<AxesSubplot:>"
      ]
     },
     "execution_count": 22,
     "metadata": {},
     "output_type": "execute_result"
    },
    {
     "data": {
      "image/png": "[encoded data removed]",
      "text/plain": [
       "<Figure size 360x576 with 1 Axes>"
      ]
     },
     "metadata": {},
     "output_type": "display_data"
    }
   ],
   "source": [
    "df_ticket.boxplot(figsize=(5,8),column=['price_in_cents'])"
   ]
  },
  {
   "cell_type": "code",
   "execution_count": 23,
   "metadata": {},
   "outputs": [
    {
     "data": {
      "text/plain": [
       "array([[<AxesSubplot:title={'center':'price_in_cents'}>]], dtype=object)"
      ]
     },
     "execution_count": 23,
     "metadata": {},
     "output_type": "execute_result"
    },
    {
     "data": {
      "image/png": "[encoded data removed]",
      "text/plain": [
       "<Figure size 576x396 with 1 Axes>"
      ]
     },
     "metadata": {},
     "output_type": "display_data"
    }
   ],
   "source": [
    "df_ticket.hist(column=['price_in_cents'])"
   ]
  },
  {
   "cell_type": "markdown",
   "metadata": {},
   "source": [
    "- La grande variété au niveau des prix est encore plus visible ainsi que la présence d'un grand nombre d'outliers. Ces derniers faussent un peu la moyenne en la tirant vers une valeur plus haute"
   ]
  },
  {
   "cell_type": "markdown",
   "metadata": {},
   "source": [
    "### Durée minimum par trajet"
   ]
  },
  {
   "cell_type": "markdown",
   "metadata": {},
   "source": [
    "Comme nous l'avions précédemment anoncés, les données de type temps doivent être converties, après quoi nous pouvons faire la différence des temps d'arrivée et de départ sur toutes les données."
   ]
  },
  {
   "cell_type": "code",
   "execution_count": 24,
   "metadata": {},
   "outputs": [
    {
     "data": {
      "text/plain": [
       "0       0 days 06:10:00\n",
       "1       0 days 17:50:00\n",
       "2       1 days 07:57:00\n",
       "3       0 days 21:35:00\n",
       "4       0 days 21:46:00\n",
       "              ...      \n",
       "74163   0 days 13:30:00\n",
       "74164   0 days 06:30:00\n",
       "74165   0 days 06:45:00\n",
       "74166   0 days 07:45:00\n",
       "74167   0 days 06:55:00\n",
       "Length: 74168, dtype: timedelta64[ns]"
      ]
     },
     "execution_count": 24,
     "metadata": {},
     "output_type": "execute_result"
    }
   ],
   "source": [
    "departure_converted = pd.to_datetime(df_ticket['departure_ts'])\n",
    "arrival_converted   = pd.to_datetime(df_ticket['arrival_ts'])\n",
    "duree = arrival_converted - departure_converted\n",
    "duree"
   ]
  },
  {
   "cell_type": "code",
   "execution_count": 25,
   "metadata": {},
   "outputs": [
    {
     "data": {
      "text/plain": [
       "Timedelta('0 days 00:20:00')"
      ]
     },
     "execution_count": 25,
     "metadata": {},
     "output_type": "execute_result"
    }
   ],
   "source": [
    "duree_min = duree.min()\n",
    "duree_min"
   ]
  },
  {
   "cell_type": "markdown",
   "metadata": {},
   "source": [
    "### Durée maximum par trajet"
   ]
  },
  {
   "cell_type": "code",
   "execution_count": 26,
   "metadata": {},
   "outputs": [
    {
     "data": {
      "text/plain": [
       "Timedelta('20 days 12:51:00')"
      ]
     },
     "execution_count": 26,
     "metadata": {},
     "output_type": "execute_result"
    }
   ],
   "source": [
    "duree_max = duree.max()\n",
    "duree_max"
   ]
  },
  {
   "cell_type": "markdown",
   "metadata": {},
   "source": [
    "### Durée moyenne par trajet"
   ]
  },
  {
   "cell_type": "code",
   "execution_count": 27,
   "metadata": {},
   "outputs": [
    {
     "data": {
      "text/plain": [
       "Timedelta('0 days 07:04:37.247600043')"
      ]
     },
     "execution_count": 27,
     "metadata": {},
     "output_type": "execute_result"
    }
   ],
   "source": [
    "duree_mean = duree.mean()\n",
    "duree_mean"
   ]
  },
  {
   "cell_type": "markdown",
   "metadata": {},
   "source": [
    "- Les temps de voyage peuvent varier de 20 mn à 20 jours, avec une moyenne d'environ 7 heures.\n",
    "- Les temps et les prix des voyages dépendent naturellemnt du type de transport et de la distance à parcourir."
   ]
  },
  {
   "cell_type": "markdown",
   "metadata": {},
   "source": [
    "### - Différence de prix moyen et durée selon le train, le bus et le covoit selon la distance du trajet (0-200km, 201-800km, 800-2000km, 2000+km) "
   ]
  },
  {
   "cell_type": "markdown",
   "metadata": {},
   "source": [
    "#### Créons une table qui regroupe toutes les informations indispensables dont on a besoin "
   ]
  },
  {
   "cell_type": "code",
   "execution_count": 28,
   "metadata": {},
   "outputs": [],
   "source": [
    "new_ticket = df_ticket.drop(['o_station', 'd_station', 'search_ts', 'middle_stations','other_companies'], axis=1)\n",
    "new_city   = df_cities.drop(['population'], axis=1)\n",
    "# new_provider = df_providers.drop(['has_wifi', 'has_plug', 'has_adjustable_seats', 'has_bicycle'], axis=1)"
   ]
  },
  {
   "cell_type": "markdown",
   "metadata": {},
   "source": [
    "- Nous avons dans un premier temps selectionné les variables dont on a besoin dans de nouveaux dataframes afin de faciliter la visualisation du dataframe final . Après quoi, nous faisons un merge en utilisant les attributs liant les différents dataframes(par exemple 'o_city' dans new_ticket et 'id' new_city)"
   ]
  },
  {
   "cell_type": "code",
   "execution_count": 29,
   "metadata": {},
   "outputs": [
    {
     "data": {
      "text/html": [
       "<div>\n",
       "<style scoped>\n",
       "    .dataframe tbody tr th:only-of-type {\n",
       "        vertical-align: middle;\n",
       "    }\n",
       "\n",
       "    .dataframe tbody tr th {\n",
       "        vertical-align: top;\n",
       "    }\n",
       "\n",
       "    .dataframe thead th {\n",
       "        text-align: right;\n",
       "    }\n",
       "</style>\n",
       "<table border=\"1\" class=\"dataframe\">\n",
       "  <thead>\n",
       "    <tr style=\"text-align: right;\">\n",
       "      <th></th>\n",
       "      <th>arrival_ts</th>\n",
       "      <th>departure_ts</th>\n",
       "      <th>id_ticket</th>\n",
       "      <th>latitude_d</th>\n",
       "      <th>latitude_o</th>\n",
       "      <th>local_name_d</th>\n",
       "      <th>local_name_o</th>\n",
       "      <th>longitude_d</th>\n",
       "      <th>longitude_o</th>\n",
       "      <th>price_in_cents</th>\n",
       "      <th>unique_name_d</th>\n",
       "      <th>unique_name_o</th>\n",
       "      <th>name</th>\n",
       "      <th>fullname</th>\n",
       "      <th>has_wifi</th>\n",
       "      <th>has_plug</th>\n",
       "      <th>has_adjustable_seats</th>\n",
       "      <th>has_bicycle</th>\n",
       "      <th>transport_type</th>\n",
       "    </tr>\n",
       "  </thead>\n",
       "  <tbody>\n",
       "    <tr>\n",
       "      <th>43993</th>\n",
       "      <td>2017-11-10 22:25:00+00</td>\n",
       "      <td>2017-11-10 12:15:00+00</td>\n",
       "      <td>6822155</td>\n",
       "      <td>44.833570</td>\n",
       "      <td>48.847702</td>\n",
       "      <td>Bordeaux, Nouvelle-Aquitaine, France</td>\n",
       "      <td>Paris, Île-de-France, France</td>\n",
       "      <td>-0.573845</td>\n",
       "      <td>2.352311</td>\n",
       "      <td>3400</td>\n",
       "      <td>bordeaux</td>\n",
       "      <td>paris</td>\n",
       "      <td>ouibus</td>\n",
       "      <td>Ouibus</td>\n",
       "      <td>True</td>\n",
       "      <td>True</td>\n",
       "      <td>True</td>\n",
       "      <td>False</td>\n",
       "      <td>bus</td>\n",
       "    </tr>\n",
       "    <tr>\n",
       "      <th>28486</th>\n",
       "      <td>2017-10-20 20:20:00+00</td>\n",
       "      <td>2017-10-20 19:10:00+00</td>\n",
       "      <td>6858626</td>\n",
       "      <td>43.613299</td>\n",
       "      <td>44.165376</td>\n",
       "      <td>Toulouse, Occitanie, France</td>\n",
       "      <td>Agen, Nouvelle-Aquitaine, France</td>\n",
       "      <td>1.452226</td>\n",
       "      <td>0.606235</td>\n",
       "      <td>950</td>\n",
       "      <td>toulouse</td>\n",
       "      <td>agen</td>\n",
       "      <td>bbc</td>\n",
       "      <td>Blablacar</td>\n",
       "      <td>False</td>\n",
       "      <td>False</td>\n",
       "      <td>False</td>\n",
       "      <td>False</td>\n",
       "      <td>carpooling</td>\n",
       "    </tr>\n",
       "    <tr>\n",
       "      <th>22053</th>\n",
       "      <td>2017-10-15 21:10:00+00</td>\n",
       "      <td>2017-10-15 17:00:00+00</td>\n",
       "      <td>6845028</td>\n",
       "      <td>50.638756</td>\n",
       "      <td>48.650012</td>\n",
       "      <td>Lille, Hauts-de-France, France</td>\n",
       "      <td>Nancy, Grand-Est, France</td>\n",
       "      <td>3.076675</td>\n",
       "      <td>6.145242</td>\n",
       "      <td>3250</td>\n",
       "      <td>lille</td>\n",
       "      <td>nancy</td>\n",
       "      <td>bbc</td>\n",
       "      <td>Blablacar</td>\n",
       "      <td>False</td>\n",
       "      <td>False</td>\n",
       "      <td>False</td>\n",
       "      <td>False</td>\n",
       "      <td>carpooling</td>\n",
       "    </tr>\n",
       "  </tbody>\n",
       "</table>\n",
       "</div>"
      ],
      "text/plain": [
       "                   arrival_ts            departure_ts  id_ticket  latitude_d  \\\n",
       "43993  2017-11-10 22:25:00+00  2017-11-10 12:15:00+00    6822155   44.833570   \n",
       "28486  2017-10-20 20:20:00+00  2017-10-20 19:10:00+00    6858626   43.613299   \n",
       "22053  2017-10-15 21:10:00+00  2017-10-15 17:00:00+00    6845028   50.638756   \n",
       "\n",
       "       latitude_o                          local_name_d  \\\n",
       "43993   48.847702  Bordeaux, Nouvelle-Aquitaine, France   \n",
       "28486   44.165376           Toulouse, Occitanie, France   \n",
       "22053   48.650012        Lille, Hauts-de-France, France   \n",
       "\n",
       "                           local_name_o  longitude_d  longitude_o  \\\n",
       "43993      Paris, Île-de-France, France    -0.573845     2.352311   \n",
       "28486  Agen, Nouvelle-Aquitaine, France     1.452226     0.606235   \n",
       "22053          Nancy, Grand-Est, France     3.076675     6.145242   \n",
       "\n",
       "       price_in_cents unique_name_d unique_name_o    name   fullname has_wifi  \\\n",
       "43993            3400      bordeaux         paris  ouibus     Ouibus     True   \n",
       "28486             950      toulouse          agen     bbc  Blablacar    False   \n",
       "22053            3250         lille         nancy     bbc  Blablacar    False   \n",
       "\n",
       "      has_plug has_adjustable_seats has_bicycle transport_type  \n",
       "43993     True                 True       False            bus  \n",
       "28486    False                False       False     carpooling  \n",
       "22053    False                False       False     carpooling  "
      ]
     },
     "execution_count": 29,
     "metadata": {},
     "output_type": "execute_result"
    }
   ],
   "source": [
    "df_merged = (pd.merge(new_ticket, new_city, left_on='o_city', right_on='id', how='inner', suffixes=('_ticket', '_city'))\n",
    "        .merge(new_city, left_on='d_city', right_on='id', how='inner', suffixes=('_o', '_d'))\n",
    "        .sort_index(axis=1)\n",
    "        .drop(['id', 'd_city', 'id_city', 'o_city'], axis=1, errors='ignore')\n",
    "        .merge(df_providers, left_on='company', right_on='id', how='inner')\n",
    "        .drop(['company', 'id', 'company_id', 'provider_id'], axis=1, errors='ignore')\n",
    "     )\n",
    "df_merged.sample(3)"
   ]
  },
  {
   "cell_type": "markdown",
   "metadata": {},
   "source": [
    "#### - Création d'une colonne distance trajet qui contient la distance parcourue lors d'un voyage "
   ]
  },
  {
   "cell_type": "markdown",
   "metadata": {},
   "source": [
    "- Nous allons utiliser les coordonnées des villes puisque celles des stations comportent beaucoup de valeurs manquantes.\n",
    "- La distance entre deux villes va se calculer en utilisant la formule de Haversine qui calcule la plus petite distance entre deux points sur une sphère."
   ]
  },
  {
   "cell_type": "code",
   "execution_count": 30,
   "metadata": {},
   "outputs": [],
   "source": [
    "from math import sin, cos, asin, radians, sqrt\n",
    "\n",
    "def distance(origine, destination):\n",
    "    '''Fonction de calcul de la distance entre deux zones géographiques'''\n",
    "    # coordonnées des points de départ et d'arrivée\n",
    "    latitude1, longitude1 = origine\n",
    "    latitude2, longitude2 = destination\n",
    "    # conversion des coordonnées en radian\n",
    "    latitude1, longitude1, latitude2, longitude2 = map(radians, [latitude1, longitude1, latitude2, longitude2])\n",
    "    # rayon de la terre\n",
    "    rayon = 6371\n",
    "    # difference des coordonées des deux points de départ, nécessaire à la formule de haversine\n",
    "    distance_latitude  = latitude2-latitude1\n",
    "    distance_longitude = longitude2-longitude1\n",
    "    # formule de Haversine \n",
    "    h = sin(distance_latitude/2)**2 + cos(latitude1)*cos(latitude2)*(sin(distance_longitude/2))**2\n",
    "    # distance entre les deux points en kilomètre\n",
    "    dk = 2*rayon*asin(sqrt(h))\n",
    "    return dk"
   ]
  },
  {
   "cell_type": "code",
   "execution_count": 31,
   "metadata": {},
   "outputs": [],
   "source": [
    "def calcul_distance(row):  \n",
    "    '''Fonction qui permet de créer une nouvelle colonne comportant \n",
    "       les distances calculées entre la ville de départ et celle d\"arrivée\n",
    "    '''\n",
    "    val = distance((row['latitude_o'], row['longitude_o']), (row['latitude_d'], row['longitude_d']))\n",
    "    return val\n",
    "\n",
    "# application de la fonction au dataframe\n",
    "df_merged['distance'] = df_merged.apply(calcul_distance, axis=1)"
   ]
  },
  {
   "cell_type": "code",
   "execution_count": 32,
   "metadata": {},
   "outputs": [],
   "source": [
    "def category_distance(row):  \n",
    "    ''' Fonction qui permet de créer une nouvelle colonne \n",
    "        regroupant les distances en fonction des catégories suivantes\n",
    "          cat1 --> (0-200km)\n",
    "          cat2 --> (200-800km)\n",
    "          cat3 --> (800-2000km)\n",
    "          cat4 --> (2000+km)\n",
    "    '''\n",
    "    if row['distance'] > 0 and row['distance'] <= 200:\n",
    "        val = 'cat1' \n",
    "    elif row['distance'] > 200 and row['distance'] <= 800:\n",
    "        val = 'cat2'\n",
    "    elif row['distance'] > 800 and row['distance'] <= 2000:\n",
    "        val = 'cat3' \n",
    "    elif row['distance'] > 2000:\n",
    "        val = 'cat4'\n",
    "    return val\n",
    "\n",
    "# application de la fonction au dataframe\n",
    "df_merged['category_distance'] = df_merged.apply(category_distance, axis=1)"
   ]
  },
  {
   "cell_type": "code",
   "execution_count": 33,
   "metadata": {},
   "outputs": [],
   "source": [
    "# cette opération est la même que celle réalisée dans la première question\n",
    "# nous faisons juste en sorte de stocker le résulat en secondes dans une \n",
    "# colonne pour faciliter les opérations ultérieures.\n",
    "\n",
    "def calcul_temps(row):  \n",
    "    '''Fonction qui permet de calculer le temps mis entre le départ et l'arrivée d'un voyage'''\n",
    "    \n",
    "    val = pd.to_datetime(row['arrival_ts']) - pd.to_datetime(row['departure_ts'])\n",
    "    return val/np.timedelta64(1, 's')\n",
    "\n",
    "# application de la fonction au dataframe\n",
    "df_merged['duree_voyage'] = df_merged.apply(calcul_temps, axis=1)"
   ]
  },
  {
   "cell_type": "code",
   "execution_count": 34,
   "metadata": {},
   "outputs": [
    {
     "data": {
      "text/html": [
       "<div>\n",
       "<style scoped>\n",
       "    .dataframe tbody tr th:only-of-type {\n",
       "        vertical-align: middle;\n",
       "    }\n",
       "\n",
       "    .dataframe tbody tr th {\n",
       "        vertical-align: top;\n",
       "    }\n",
       "\n",
       "    .dataframe thead th {\n",
       "        text-align: right;\n",
       "    }\n",
       "</style>\n",
       "<table border=\"1\" class=\"dataframe\">\n",
       "  <thead>\n",
       "    <tr style=\"text-align: right;\">\n",
       "      <th></th>\n",
       "      <th>arrival_ts</th>\n",
       "      <th>departure_ts</th>\n",
       "      <th>id_ticket</th>\n",
       "      <th>latitude_d</th>\n",
       "      <th>latitude_o</th>\n",
       "      <th>local_name_d</th>\n",
       "      <th>local_name_o</th>\n",
       "      <th>longitude_d</th>\n",
       "      <th>longitude_o</th>\n",
       "      <th>price_in_cents</th>\n",
       "      <th>...</th>\n",
       "      <th>name</th>\n",
       "      <th>fullname</th>\n",
       "      <th>has_wifi</th>\n",
       "      <th>has_plug</th>\n",
       "      <th>has_adjustable_seats</th>\n",
       "      <th>has_bicycle</th>\n",
       "      <th>transport_type</th>\n",
       "      <th>distance</th>\n",
       "      <th>category_distance</th>\n",
       "      <th>duree_voyage</th>\n",
       "    </tr>\n",
       "  </thead>\n",
       "  <tbody>\n",
       "    <tr>\n",
       "      <th>28711</th>\n",
       "      <td>2017-10-09 12:10:00+00</td>\n",
       "      <td>2017-10-09 09:30:00+00</td>\n",
       "      <td>6818967</td>\n",
       "      <td>43.613299</td>\n",
       "      <td>43.604452</td>\n",
       "      <td>Toulouse, Occitanie, France</td>\n",
       "      <td>Montpellier, Occitanie, France</td>\n",
       "      <td>1.452226</td>\n",
       "      <td>3.918318</td>\n",
       "      <td>1800</td>\n",
       "      <td>...</td>\n",
       "      <td>bbc</td>\n",
       "      <td>Blablacar</td>\n",
       "      <td>False</td>\n",
       "      <td>False</td>\n",
       "      <td>False</td>\n",
       "      <td>False</td>\n",
       "      <td>carpooling</td>\n",
       "      <td>198.546025</td>\n",
       "      <td>cat1</td>\n",
       "      <td>9600.0</td>\n",
       "    </tr>\n",
       "    <tr>\n",
       "      <th>45805</th>\n",
       "      <td>2017-10-09 13:53:00+00</td>\n",
       "      <td>2017-10-09 09:43:00+00</td>\n",
       "      <td>6808987</td>\n",
       "      <td>49.443232</td>\n",
       "      <td>48.006110</td>\n",
       "      <td>Rouen, Normandie, France</td>\n",
       "      <td>Le Mans, Pays-de-la-Loire, France</td>\n",
       "      <td>1.099971</td>\n",
       "      <td>0.199556</td>\n",
       "      <td>3990</td>\n",
       "      <td>...</td>\n",
       "      <td>corailintercite</td>\n",
       "      <td>Intercités</td>\n",
       "      <td>False</td>\n",
       "      <td>False</td>\n",
       "      <td>True</td>\n",
       "      <td>False</td>\n",
       "      <td>train</td>\n",
       "      <td>172.908722</td>\n",
       "      <td>cat1</td>\n",
       "      <td>15000.0</td>\n",
       "    </tr>\n",
       "    <tr>\n",
       "      <th>62320</th>\n",
       "      <td>2017-10-14 22:35:00+00</td>\n",
       "      <td>2017-10-14 18:29:00+00</td>\n",
       "      <td>6838091</td>\n",
       "      <td>43.547133</td>\n",
       "      <td>43.296482</td>\n",
       "      <td>Cannes, Provence-Alpes-Côte d'Azur, France</td>\n",
       "      <td>Marseille, Provence-Alpes-Côte d'Azur, France</td>\n",
       "      <td>7.013264</td>\n",
       "      <td>5.369780</td>\n",
       "      <td>2240</td>\n",
       "      <td>...</td>\n",
       "      <td>train</td>\n",
       "      <td>TER</td>\n",
       "      <td>False</td>\n",
       "      <td>False</td>\n",
       "      <td>True</td>\n",
       "      <td>False</td>\n",
       "      <td>train</td>\n",
       "      <td>135.623755</td>\n",
       "      <td>cat1</td>\n",
       "      <td>14760.0</td>\n",
       "    </tr>\n",
       "  </tbody>\n",
       "</table>\n",
       "<p>3 rows × 22 columns</p>\n",
       "</div>"
      ],
      "text/plain": [
       "                   arrival_ts            departure_ts  id_ticket  latitude_d  \\\n",
       "28711  2017-10-09 12:10:00+00  2017-10-09 09:30:00+00    6818967   43.613299   \n",
       "45805  2017-10-09 13:53:00+00  2017-10-09 09:43:00+00    6808987   49.443232   \n",
       "62320  2017-10-14 22:35:00+00  2017-10-14 18:29:00+00    6838091   43.547133   \n",
       "\n",
       "       latitude_o                                local_name_d  \\\n",
       "28711   43.604452                 Toulouse, Occitanie, France   \n",
       "45805   48.006110                    Rouen, Normandie, France   \n",
       "62320   43.296482  Cannes, Provence-Alpes-Côte d'Azur, France   \n",
       "\n",
       "                                        local_name_o  longitude_d  \\\n",
       "28711                 Montpellier, Occitanie, France     1.452226   \n",
       "45805              Le Mans, Pays-de-la-Loire, France     1.099971   \n",
       "62320  Marseille, Provence-Alpes-Côte d'Azur, France     7.013264   \n",
       "\n",
       "       longitude_o  price_in_cents  ...             name    fullname has_wifi  \\\n",
       "28711     3.918318            1800  ...              bbc   Blablacar    False   \n",
       "45805     0.199556            3990  ...  corailintercite  Intercités    False   \n",
       "62320     5.369780            2240  ...            train         TER    False   \n",
       "\n",
       "      has_plug has_adjustable_seats has_bicycle transport_type    distance  \\\n",
       "28711    False                False       False     carpooling  198.546025   \n",
       "45805    False                 True       False          train  172.908722   \n",
       "62320    False                 True       False          train  135.623755   \n",
       "\n",
       "      category_distance  duree_voyage  \n",
       "28711              cat1        9600.0  \n",
       "45805              cat1       15000.0  \n",
       "62320              cat1       14760.0  \n",
       "\n",
       "[3 rows x 22 columns]"
      ]
     },
     "execution_count": 34,
     "metadata": {},
     "output_type": "execute_result"
    }
   ],
   "source": [
    "df_merged.sample(3)"
   ]
  },
  {
   "cell_type": "markdown",
   "metadata": {},
   "source": [
    "### Différence de prix moyen selon le train, le bus et le covoit selon la distance du trajet (0-200km, 201-800km, 800-2000km, 2000+km) "
   ]
  },
  {
   "cell_type": "markdown",
   "metadata": {},
   "source": [
    "- Pour avoir les informations dont nous avons besoin nous allons d'abord : regrouper les données par type de transport et par categorie de distance et créer une nouvelle colonne comportant le prix moyen\n",
    "- Cependant il serait mieux d'avoir les types de transport d'un côté et les catégories de l'autre pour une visualisation plus facile et agréable. Nous allons donc faire un pivot du dataframe pour avoir les types de transport en colonnes, les valeurs des prix moyens ou durées moyennes comme données et les catégories de distance comme index. \n",
    "- Le code entier est le suivant sous forme de fonction:"
   ]
  },
  {
   "cell_type": "code",
   "execution_count": 35,
   "metadata": {},
   "outputs": [],
   "source": [
    "def indicateur_moyen(dataframe, indicateur_nom, indicateur_colonne):\n",
    "    return (dataframe\n",
    "              .groupby(['transport_type', 'category_distance'])\n",
    "              .apply(lambda x: pd.Series({indicateur_nom: x[indicateur_colonne].mean()}))\n",
    "              .pivot_table(\n",
    "                    columns='transport_type',\n",
    "                    values=indicateur_nom,\n",
    "                    index=['category_distance'],\n",
    "                ))"
   ]
  },
  {
   "cell_type": "code",
   "execution_count": 36,
   "metadata": {},
   "outputs": [
    {
     "data": {
      "text/html": [
       "<div>\n",
       "<style scoped>\n",
       "    .dataframe tbody tr th:only-of-type {\n",
       "        vertical-align: middle;\n",
       "    }\n",
       "\n",
       "    .dataframe tbody tr th {\n",
       "        vertical-align: top;\n",
       "    }\n",
       "\n",
       "    .dataframe thead th {\n",
       "        text-align: right;\n",
       "    }\n",
       "</style>\n",
       "<table border=\"1\" class=\"dataframe\">\n",
       "  <thead>\n",
       "    <tr style=\"text-align: right;\">\n",
       "      <th>transport_type</th>\n",
       "      <th>bus</th>\n",
       "      <th>carpooling</th>\n",
       "      <th>train</th>\n",
       "    </tr>\n",
       "    <tr>\n",
       "      <th>category_distance</th>\n",
       "      <th></th>\n",
       "      <th></th>\n",
       "      <th></th>\n",
       "    </tr>\n",
       "  </thead>\n",
       "  <tbody>\n",
       "    <tr>\n",
       "      <th>cat1</th>\n",
       "      <td>2182.830918</td>\n",
       "      <td>1177.352385</td>\n",
       "      <td>3487.900779</td>\n",
       "    </tr>\n",
       "    <tr>\n",
       "      <th>cat2</th>\n",
       "      <td>3494.850022</td>\n",
       "      <td>3218.064310</td>\n",
       "      <td>9124.779489</td>\n",
       "    </tr>\n",
       "    <tr>\n",
       "      <th>cat3</th>\n",
       "      <td>6949.950045</td>\n",
       "      <td>8626.545455</td>\n",
       "      <td>15463.746130</td>\n",
       "    </tr>\n",
       "  </tbody>\n",
       "</table>\n",
       "</div>"
      ],
      "text/plain": [
       "transport_type             bus   carpooling         train\n",
       "category_distance                                        \n",
       "cat1               2182.830918  1177.352385   3487.900779\n",
       "cat2               3494.850022  3218.064310   9124.779489\n",
       "cat3               6949.950045  8626.545455  15463.746130"
      ]
     },
     "execution_count": 36,
     "metadata": {},
     "output_type": "execute_result"
    }
   ],
   "source": [
    "diff_prix = indicateur_moyen(df_merged, 'prix', 'price_in_cents')\n",
    "diff_prix"
   ]
  },
  {
   "cell_type": "code",
   "execution_count": 37,
   "metadata": {},
   "outputs": [
    {
     "data": {
      "text/plain": [
       "<AxesSubplot:xlabel='category_distance'>"
      ]
     },
     "execution_count": 37,
     "metadata": {},
     "output_type": "execute_result"
    },
    {
     "data": {
      "image/png": "[encoded data removed]",
      "text/plain": [
       "<Figure size 576x396 with 1 Axes>"
      ]
     },
     "metadata": {},
     "output_type": "display_data"
    }
   ],
   "source": [
    "diff_prix.plot.bar()"
   ]
  },
  {
   "cell_type": "markdown",
   "metadata": {},
   "source": [
    "- Nous pouvons constater que pour les trajets les plus courts(0-200km) et (201-800km), le covoiturage revient moins cher en moyenne suivi du bus.\n",
    "- Pour les voyages de 800 à 2000km cependant, le bus est en moyenne l'option la moins chère suivie du covoiturage.\n",
    "- Dans tous les cas, le train est toujours plus coûteux."
   ]
  },
  {
   "cell_type": "markdown",
   "metadata": {},
   "source": [
    "### Différence de durée selon le train, le bus et le covoit selon la distance du trajet (0-200km, 201-800km, 800-2000km, 2000+km) "
   ]
  },
  {
   "cell_type": "code",
   "execution_count": 38,
   "metadata": {},
   "outputs": [
    {
     "data": {
      "text/html": [
       "<div>\n",
       "<style scoped>\n",
       "    .dataframe tbody tr th:only-of-type {\n",
       "        vertical-align: middle;\n",
       "    }\n",
       "\n",
       "    .dataframe tbody tr th {\n",
       "        vertical-align: top;\n",
       "    }\n",
       "\n",
       "    .dataframe thead th {\n",
       "        text-align: right;\n",
       "    }\n",
       "</style>\n",
       "<table border=\"1\" class=\"dataframe\">\n",
       "  <thead>\n",
       "    <tr style=\"text-align: right;\">\n",
       "      <th>transport_type</th>\n",
       "      <th>bus</th>\n",
       "      <th>carpooling</th>\n",
       "      <th>train</th>\n",
       "    </tr>\n",
       "    <tr>\n",
       "      <th>category_distance</th>\n",
       "      <th></th>\n",
       "      <th></th>\n",
       "      <th></th>\n",
       "    </tr>\n",
       "  </thead>\n",
       "  <tbody>\n",
       "    <tr>\n",
       "      <th>cat1</th>\n",
       "      <td>36837.053140</td>\n",
       "      <td>7027.342428</td>\n",
       "      <td>15909.840098</td>\n",
       "    </tr>\n",
       "    <tr>\n",
       "      <th>cat2</th>\n",
       "      <td>54269.269315</td>\n",
       "      <td>17147.272436</td>\n",
       "      <td>27639.543515</td>\n",
       "    </tr>\n",
       "    <tr>\n",
       "      <th>cat3</th>\n",
       "      <td>99130.027248</td>\n",
       "      <td>47160.839161</td>\n",
       "      <td>43771.021672</td>\n",
       "    </tr>\n",
       "  </tbody>\n",
       "</table>\n",
       "</div>"
      ],
      "text/plain": [
       "transport_type              bus    carpooling         train\n",
       "category_distance                                          \n",
       "cat1               36837.053140   7027.342428  15909.840098\n",
       "cat2               54269.269315  17147.272436  27639.543515\n",
       "cat3               99130.027248  47160.839161  43771.021672"
      ]
     },
     "execution_count": 38,
     "metadata": {},
     "output_type": "execute_result"
    }
   ],
   "source": [
    "diff_temps = indicateur_moyen(df_merged, 'duree', 'duree_voyage')\n",
    "diff_temps"
   ]
  },
  {
   "cell_type": "code",
   "execution_count": 39,
   "metadata": {},
   "outputs": [
    {
     "data": {
      "text/plain": [
       "<AxesSubplot:xlabel='category_distance'>"
      ]
     },
     "execution_count": 39,
     "metadata": {},
     "output_type": "execute_result"
    },
    {
     "data": {
      "image/png": "[encoded data removed]",
      "text/plain": [
       "<Figure size 576x396 with 1 Axes>"
      ]
     },
     "metadata": {},
     "output_type": "display_data"
    }
   ],
   "source": [
    "diff_temps.plot.bar()"
   ]
  },
  {
   "cell_type": "markdown",
   "metadata": {},
   "source": [
    "- Concernant la durée moyenne des voyages, le covoiturage est le moyen le plus rapide en moyenne, suivi du train pour les distances de 0 à 200km et ceux de plus de 200 à 800km\n",
    "- Pour les voyages plus longs de 800 à 2000km, le train est néanmoins plus rapide en général, suivi du covoiturage.\n",
    "- Dans toutes les catégories de distance le bus prend plus de temps"
   ]
  },
  {
   "cell_type": "code",
   "execution_count": 40,
   "metadata": {},
   "outputs": [],
   "source": [
    "def best_transport(dataframe, f_ind_moyen, ind_nom, ind_colonne, dist_cat):\n",
    "    '''Fonction qui propose le meilleur type de transport selon l'indicateur \n",
    "       que l'utilisateur choisit (coût moyen ou durée moyenne du trajet) en \n",
    "       fonction de la catégorie de distance à parcourir \n",
    "    '''\n",
    "    new_data = f_ind_moyen(dataframe, ind_nom, ind_colonne)\n",
    "    new_data_cat = new_data.loc[dist_cat]\n",
    "    best_trans = new_data_cat[new_data_cat == new_data_cat.min()].index\n",
    "    message_s = 'Le meilleur type de transport pour la distance que vous avez à parcourir est le '\n",
    "    message_p = 'Les meilleurs types de transport pour la distance que vous avez à parcourir sont '\n",
    "    if len(best_trans) == 1:\n",
    "        print(message_s)\n",
    "    else : \n",
    "        print(message_p)\n",
    "    for i in best_trans:\n",
    "        print(i)"
   ]
  },
  {
   "cell_type": "code",
   "execution_count": 41,
   "metadata": {},
   "outputs": [
    {
     "name": "stdout",
     "output_type": "stream",
     "text": [
      "Le meilleur type de transport pour la distance que vous avez à parcourir est le \n",
      "train\n"
     ]
    }
   ],
   "source": [
    "best_transport(df_merged, indicateur_moyen, 'duree', 'duree_voyage', 'cat3')"
   ]
  },
  {
   "cell_type": "code",
   "execution_count": 42,
   "metadata": {},
   "outputs": [
    {
     "name": "stdout",
     "output_type": "stream",
     "text": [
      "Le meilleur type de transport pour la distance que vous avez à parcourir est le \n",
      "carpooling\n"
     ]
    }
   ],
   "source": [
    "best_transport(df_merged, indicateur_moyen, 'duree', 'duree_voyage', 'cat2')"
   ]
  },
  {
   "cell_type": "code",
   "execution_count": 43,
   "metadata": {},
   "outputs": [
    {
     "data": {
      "text/html": [
       "<div>\n",
       "<style scoped>\n",
       "    .dataframe tbody tr th:only-of-type {\n",
       "        vertical-align: middle;\n",
       "    }\n",
       "\n",
       "    .dataframe tbody tr th {\n",
       "        vertical-align: top;\n",
       "    }\n",
       "\n",
       "    .dataframe thead th {\n",
       "        text-align: right;\n",
       "    }\n",
       "</style>\n",
       "<table border=\"1\" class=\"dataframe\">\n",
       "  <thead>\n",
       "    <tr style=\"text-align: right;\">\n",
       "      <th></th>\n",
       "      <th>arrival_ts</th>\n",
       "      <th>departure_ts</th>\n",
       "      <th>id_ticket</th>\n",
       "      <th>latitude_d</th>\n",
       "      <th>latitude_o</th>\n",
       "      <th>local_name_d</th>\n",
       "      <th>local_name_o</th>\n",
       "      <th>longitude_d</th>\n",
       "      <th>longitude_o</th>\n",
       "      <th>price_in_cents</th>\n",
       "      <th>...</th>\n",
       "      <th>name</th>\n",
       "      <th>fullname</th>\n",
       "      <th>has_wifi</th>\n",
       "      <th>has_plug</th>\n",
       "      <th>has_adjustable_seats</th>\n",
       "      <th>has_bicycle</th>\n",
       "      <th>transport_type</th>\n",
       "      <th>distance</th>\n",
       "      <th>category_distance</th>\n",
       "      <th>duree_voyage</th>\n",
       "    </tr>\n",
       "  </thead>\n",
       "  <tbody>\n",
       "    <tr>\n",
       "      <th>0</th>\n",
       "      <td>2017-10-13 20:10:00+00</td>\n",
       "      <td>2017-10-13 14:00:00+00</td>\n",
       "      <td>6795025</td>\n",
       "      <td>43.604452</td>\n",
       "      <td>47.907018</td>\n",
       "      <td>Montpellier, Occitanie, France</td>\n",
       "      <td>Orléans, Centre-Val de Loire, France</td>\n",
       "      <td>3.918318</td>\n",
       "      <td>1.906270</td>\n",
       "      <td>4550</td>\n",
       "      <td>...</td>\n",
       "      <td>bbc</td>\n",
       "      <td>Blablacar</td>\n",
       "      <td>False</td>\n",
       "      <td>False</td>\n",
       "      <td>False</td>\n",
       "      <td>False</td>\n",
       "      <td>carpooling</td>\n",
       "      <td>503.197167</td>\n",
       "      <td>cat2</td>\n",
       "      <td>22200.0</td>\n",
       "    </tr>\n",
       "    <tr>\n",
       "      <th>1</th>\n",
       "      <td>2017-10-06 15:00:00+00</td>\n",
       "      <td>2017-10-06 07:00:00+00</td>\n",
       "      <td>6797839</td>\n",
       "      <td>43.604452</td>\n",
       "      <td>48.847702</td>\n",
       "      <td>Montpellier, Occitanie, France</td>\n",
       "      <td>Paris, Île-de-France, France</td>\n",
       "      <td>3.918318</td>\n",
       "      <td>2.352311</td>\n",
       "      <td>5800</td>\n",
       "      <td>...</td>\n",
       "      <td>bbc</td>\n",
       "      <td>Blablacar</td>\n",
       "      <td>False</td>\n",
       "      <td>False</td>\n",
       "      <td>False</td>\n",
       "      <td>False</td>\n",
       "      <td>carpooling</td>\n",
       "      <td>595.301747</td>\n",
       "      <td>cat2</td>\n",
       "      <td>28800.0</td>\n",
       "    </tr>\n",
       "    <tr>\n",
       "      <th>2</th>\n",
       "      <td>2017-10-06 16:20:00+00</td>\n",
       "      <td>2017-10-06 08:20:00+00</td>\n",
       "      <td>6797840</td>\n",
       "      <td>43.604452</td>\n",
       "      <td>48.847702</td>\n",
       "      <td>Montpellier, Occitanie, France</td>\n",
       "      <td>Paris, Île-de-France, France</td>\n",
       "      <td>3.918318</td>\n",
       "      <td>2.352311</td>\n",
       "      <td>5450</td>\n",
       "      <td>...</td>\n",
       "      <td>bbc</td>\n",
       "      <td>Blablacar</td>\n",
       "      <td>False</td>\n",
       "      <td>False</td>\n",
       "      <td>False</td>\n",
       "      <td>False</td>\n",
       "      <td>carpooling</td>\n",
       "      <td>595.301747</td>\n",
       "      <td>cat2</td>\n",
       "      <td>28800.0</td>\n",
       "    </tr>\n",
       "  </tbody>\n",
       "</table>\n",
       "<p>3 rows × 22 columns</p>\n",
       "</div>"
      ],
      "text/plain": [
       "               arrival_ts            departure_ts  id_ticket  latitude_d  \\\n",
       "0  2017-10-13 20:10:00+00  2017-10-13 14:00:00+00    6795025   43.604452   \n",
       "1  2017-10-06 15:00:00+00  2017-10-06 07:00:00+00    6797839   43.604452   \n",
       "2  2017-10-06 16:20:00+00  2017-10-06 08:20:00+00    6797840   43.604452   \n",
       "\n",
       "   latitude_o                    local_name_d  \\\n",
       "0   47.907018  Montpellier, Occitanie, France   \n",
       "1   48.847702  Montpellier, Occitanie, France   \n",
       "2   48.847702  Montpellier, Occitanie, France   \n",
       "\n",
       "                           local_name_o  longitude_d  longitude_o  \\\n",
       "0  Orléans, Centre-Val de Loire, France     3.918318     1.906270   \n",
       "1          Paris, Île-de-France, France     3.918318     2.352311   \n",
       "2          Paris, Île-de-France, France     3.918318     2.352311   \n",
       "\n",
       "   price_in_cents  ... name   fullname has_wifi has_plug has_adjustable_seats  \\\n",
       "0            4550  ...  bbc  Blablacar    False    False                False   \n",
       "1            5800  ...  bbc  Blablacar    False    False                False   \n",
       "2            5450  ...  bbc  Blablacar    False    False                False   \n",
       "\n",
       "  has_bicycle transport_type    distance category_distance  duree_voyage  \n",
       "0       False     carpooling  503.197167              cat2       22200.0  \n",
       "1       False     carpooling  595.301747              cat2       28800.0  \n",
       "2       False     carpooling  595.301747              cat2       28800.0  \n",
       "\n",
       "[3 rows x 22 columns]"
      ]
     },
     "execution_count": 43,
     "metadata": {},
     "output_type": "execute_result"
    }
   ],
   "source": [
    "df_merged.head(3)"
   ]
  },
  {
   "cell_type": "markdown",
   "metadata": {},
   "source": [
    "## Prediction du prix du billet en fonction des variables adéquates"
   ]
  },
  {
   "cell_type": "code",
   "execution_count": 44,
   "metadata": {},
   "outputs": [],
   "source": [
    "df_merged['month_arrival'] = pd.to_datetime(df_merged['arrival_ts'], format = \"%Y-%m-%d %H:%M:%S\").dt.month\n",
    "df_merged['day_arrival'] = pd.to_datetime(df_merged['arrival_ts'], format = \"%Y-%m-%d %H:%M:%S\").dt.day\n",
    "df_merged['hour_arrival'] = pd.to_datetime(df_merged['arrival_ts'], format = \"%Y-%m-%d %H:%M:%S\").dt.hour\n",
    "df_merged['mn_arrival'] = pd.to_datetime(df_merged['arrival_ts'], format = \"%Y-%m-%d %H:%M:%S\").dt.minute"
   ]
  },
  {
   "cell_type": "code",
   "execution_count": 45,
   "metadata": {},
   "outputs": [],
   "source": [
    "df_merged['month_departure'] = pd.to_datetime(df_merged['departure_ts'], format = \"%Y-%m-%d %H:%M:%S\").dt.month\n",
    "df_merged['day_departure'] = pd.to_datetime(df_merged['departure_ts'], format = \"%Y-%m-%d %H:%M:%S\").dt.day\n",
    "df_merged['hour_departure'] = pd.to_datetime(df_merged['departure_ts'], format = \"%Y-%m-%d %H:%M:%S\").dt.hour\n",
    "df_merged['mn_departure'] = pd.to_datetime(df_merged['departure_ts'], format = \"%Y-%m-%d %H:%M:%S\").dt.minute"
   ]
  },
  {
   "cell_type": "code",
   "execution_count": 47,
   "metadata": {},
   "outputs": [],
   "source": [
    "data_predictions = df_merged.drop(['arrival_ts', 'departure_ts', 'id_ticket', 'latitude_d', \n",
    "                                   'latitude_o', 'local_name_d', 'local_name_o', 'longitude_d',\n",
    "                                   'longitude_o', 'name', 'distance'], axis=1)"
   ]
  },
  {
   "cell_type": "code",
   "execution_count": 48,
   "metadata": {},
   "outputs": [
    {
     "data": {
      "text/html": [
       "<div>\n",
       "<style scoped>\n",
       "    .dataframe tbody tr th:only-of-type {\n",
       "        vertical-align: middle;\n",
       "    }\n",
       "\n",
       "    .dataframe tbody tr th {\n",
       "        vertical-align: top;\n",
       "    }\n",
       "\n",
       "    .dataframe thead th {\n",
       "        text-align: right;\n",
       "    }\n",
       "</style>\n",
       "<table border=\"1\" class=\"dataframe\">\n",
       "  <thead>\n",
       "    <tr style=\"text-align: right;\">\n",
       "      <th></th>\n",
       "      <th>price_in_cents</th>\n",
       "      <th>unique_name_d</th>\n",
       "      <th>unique_name_o</th>\n",
       "      <th>fullname</th>\n",
       "      <th>has_wifi</th>\n",
       "      <th>has_plug</th>\n",
       "      <th>has_adjustable_seats</th>\n",
       "      <th>has_bicycle</th>\n",
       "      <th>transport_type</th>\n",
       "      <th>category_distance</th>\n",
       "      <th>duree_voyage</th>\n",
       "      <th>month_arrival</th>\n",
       "      <th>day_arrival</th>\n",
       "      <th>hour_arrival</th>\n",
       "      <th>mn_arrival</th>\n",
       "      <th>month_departure</th>\n",
       "      <th>day_departure</th>\n",
       "      <th>hour_departure</th>\n",
       "      <th>mn_departure</th>\n",
       "    </tr>\n",
       "  </thead>\n",
       "  <tbody>\n",
       "    <tr>\n",
       "      <th>0</th>\n",
       "      <td>4550</td>\n",
       "      <td>montpellier</td>\n",
       "      <td>orleans</td>\n",
       "      <td>Blablacar</td>\n",
       "      <td>False</td>\n",
       "      <td>False</td>\n",
       "      <td>False</td>\n",
       "      <td>False</td>\n",
       "      <td>carpooling</td>\n",
       "      <td>cat2</td>\n",
       "      <td>22200.0</td>\n",
       "      <td>10</td>\n",
       "      <td>13</td>\n",
       "      <td>20</td>\n",
       "      <td>10</td>\n",
       "      <td>10</td>\n",
       "      <td>13</td>\n",
       "      <td>14</td>\n",
       "      <td>0</td>\n",
       "    </tr>\n",
       "    <tr>\n",
       "      <th>1</th>\n",
       "      <td>5800</td>\n",
       "      <td>montpellier</td>\n",
       "      <td>paris</td>\n",
       "      <td>Blablacar</td>\n",
       "      <td>False</td>\n",
       "      <td>False</td>\n",
       "      <td>False</td>\n",
       "      <td>False</td>\n",
       "      <td>carpooling</td>\n",
       "      <td>cat2</td>\n",
       "      <td>28800.0</td>\n",
       "      <td>10</td>\n",
       "      <td>6</td>\n",
       "      <td>15</td>\n",
       "      <td>0</td>\n",
       "      <td>10</td>\n",
       "      <td>6</td>\n",
       "      <td>7</td>\n",
       "      <td>0</td>\n",
       "    </tr>\n",
       "    <tr>\n",
       "      <th>2</th>\n",
       "      <td>5450</td>\n",
       "      <td>montpellier</td>\n",
       "      <td>paris</td>\n",
       "      <td>Blablacar</td>\n",
       "      <td>False</td>\n",
       "      <td>False</td>\n",
       "      <td>False</td>\n",
       "      <td>False</td>\n",
       "      <td>carpooling</td>\n",
       "      <td>cat2</td>\n",
       "      <td>28800.0</td>\n",
       "      <td>10</td>\n",
       "      <td>6</td>\n",
       "      <td>16</td>\n",
       "      <td>20</td>\n",
       "      <td>10</td>\n",
       "      <td>6</td>\n",
       "      <td>8</td>\n",
       "      <td>20</td>\n",
       "    </tr>\n",
       "  </tbody>\n",
       "</table>\n",
       "</div>"
      ],
      "text/plain": [
       "   price_in_cents unique_name_d unique_name_o   fullname has_wifi has_plug  \\\n",
       "0            4550   montpellier       orleans  Blablacar    False    False   \n",
       "1            5800   montpellier         paris  Blablacar    False    False   \n",
       "2            5450   montpellier         paris  Blablacar    False    False   \n",
       "\n",
       "  has_adjustable_seats has_bicycle transport_type category_distance  \\\n",
       "0                False       False     carpooling              cat2   \n",
       "1                False       False     carpooling              cat2   \n",
       "2                False       False     carpooling              cat2   \n",
       "\n",
       "   duree_voyage  month_arrival  day_arrival  hour_arrival  mn_arrival  \\\n",
       "0       22200.0             10           13            20          10   \n",
       "1       28800.0             10            6            15           0   \n",
       "2       28800.0             10            6            16          20   \n",
       "\n",
       "   month_departure  day_departure  hour_departure  mn_departure  \n",
       "0               10             13              14             0  \n",
       "1               10              6               7             0  \n",
       "2               10              6               8            20  "
      ]
     },
     "execution_count": 48,
     "metadata": {},
     "output_type": "execute_result"
    }
   ],
   "source": [
    "data_predictions.head(3)"
   ]
  },
  {
   "cell_type": "markdown",
   "metadata": {},
   "source": [
    "## Nettoyage, Encodage"
   ]
  },
  {
   "cell_type": "code",
   "execution_count": 49,
   "metadata": {},
   "outputs": [],
   "source": [
    "data_predictions.dropna(axis=0, inplace=True)"
   ]
  },
  {
   "cell_type": "code",
   "execution_count": 50,
   "metadata": {},
   "outputs": [],
   "source": [
    "# conversion des valeurs booléennes en 0 et 1\n",
    "def encodage(row, col):\n",
    "    if row[col] == False: \n",
    "        val = 0\n",
    "    else :\n",
    "        val = 1        \n",
    "    return val"
   ]
  },
  {
   "cell_type": "code",
   "execution_count": 51,
   "metadata": {},
   "outputs": [
    {
     "data": {
      "text/html": [
       "<div>\n",
       "<style scoped>\n",
       "    .dataframe tbody tr th:only-of-type {\n",
       "        vertical-align: middle;\n",
       "    }\n",
       "\n",
       "    .dataframe tbody tr th {\n",
       "        vertical-align: top;\n",
       "    }\n",
       "\n",
       "    .dataframe thead th {\n",
       "        text-align: right;\n",
       "    }\n",
       "</style>\n",
       "<table border=\"1\" class=\"dataframe\">\n",
       "  <thead>\n",
       "    <tr style=\"text-align: right;\">\n",
       "      <th></th>\n",
       "      <th>price_in_cents</th>\n",
       "      <th>has_wifi</th>\n",
       "      <th>has_plug</th>\n",
       "      <th>has_adjustable_seats</th>\n",
       "      <th>has_bicycle</th>\n",
       "      <th>duree_voyage</th>\n",
       "      <th>month_arrival</th>\n",
       "      <th>day_arrival</th>\n",
       "      <th>hour_arrival</th>\n",
       "      <th>mn_arrival</th>\n",
       "      <th>...</th>\n",
       "      <th>company_Student Agency</th>\n",
       "      <th>company_TER</th>\n",
       "      <th>company_TGV</th>\n",
       "      <th>company_Thalys</th>\n",
       "      <th>transport_bus</th>\n",
       "      <th>transport_carpooling</th>\n",
       "      <th>transport_train</th>\n",
       "      <th>distance_cat1</th>\n",
       "      <th>distance_cat2</th>\n",
       "      <th>distance_cat3</th>\n",
       "    </tr>\n",
       "  </thead>\n",
       "  <tbody>\n",
       "    <tr>\n",
       "      <th>0</th>\n",
       "      <td>4550</td>\n",
       "      <td>0</td>\n",
       "      <td>0</td>\n",
       "      <td>0</td>\n",
       "      <td>0</td>\n",
       "      <td>22200.0</td>\n",
       "      <td>10</td>\n",
       "      <td>13</td>\n",
       "      <td>20</td>\n",
       "      <td>10</td>\n",
       "      <td>...</td>\n",
       "      <td>0</td>\n",
       "      <td>0</td>\n",
       "      <td>0</td>\n",
       "      <td>0</td>\n",
       "      <td>0</td>\n",
       "      <td>1</td>\n",
       "      <td>0</td>\n",
       "      <td>0</td>\n",
       "      <td>1</td>\n",
       "      <td>0</td>\n",
       "    </tr>\n",
       "    <tr>\n",
       "      <th>1</th>\n",
       "      <td>5800</td>\n",
       "      <td>0</td>\n",
       "      <td>0</td>\n",
       "      <td>0</td>\n",
       "      <td>0</td>\n",
       "      <td>28800.0</td>\n",
       "      <td>10</td>\n",
       "      <td>6</td>\n",
       "      <td>15</td>\n",
       "      <td>0</td>\n",
       "      <td>...</td>\n",
       "      <td>0</td>\n",
       "      <td>0</td>\n",
       "      <td>0</td>\n",
       "      <td>0</td>\n",
       "      <td>0</td>\n",
       "      <td>1</td>\n",
       "      <td>0</td>\n",
       "      <td>0</td>\n",
       "      <td>1</td>\n",
       "      <td>0</td>\n",
       "    </tr>\n",
       "    <tr>\n",
       "      <th>2</th>\n",
       "      <td>5450</td>\n",
       "      <td>0</td>\n",
       "      <td>0</td>\n",
       "      <td>0</td>\n",
       "      <td>0</td>\n",
       "      <td>28800.0</td>\n",
       "      <td>10</td>\n",
       "      <td>6</td>\n",
       "      <td>16</td>\n",
       "      <td>20</td>\n",
       "      <td>...</td>\n",
       "      <td>0</td>\n",
       "      <td>0</td>\n",
       "      <td>0</td>\n",
       "      <td>0</td>\n",
       "      <td>0</td>\n",
       "      <td>1</td>\n",
       "      <td>0</td>\n",
       "      <td>0</td>\n",
       "      <td>1</td>\n",
       "      <td>0</td>\n",
       "    </tr>\n",
       "  </tbody>\n",
       "</table>\n",
       "<p>3 rows × 676 columns</p>\n",
       "</div>"
      ],
      "text/plain": [
       "   price_in_cents  has_wifi  has_plug  has_adjustable_seats  has_bicycle  \\\n",
       "0            4550         0         0                     0            0   \n",
       "1            5800         0         0                     0            0   \n",
       "2            5450         0         0                     0            0   \n",
       "\n",
       "   duree_voyage  month_arrival  day_arrival  hour_arrival  mn_arrival  ...  \\\n",
       "0       22200.0             10           13            20          10  ...   \n",
       "1       28800.0             10            6            15           0  ...   \n",
       "2       28800.0             10            6            16          20  ...   \n",
       "\n",
       "   company_Student Agency  company_TER  company_TGV  company_Thalys  \\\n",
       "0                       0            0            0               0   \n",
       "1                       0            0            0               0   \n",
       "2                       0            0            0               0   \n",
       "\n",
       "   transport_bus  transport_carpooling  transport_train  distance_cat1  \\\n",
       "0              0                     1                0              0   \n",
       "1              0                     1                0              0   \n",
       "2              0                     1                0              0   \n",
       "\n",
       "   distance_cat2  distance_cat3  \n",
       "0              1              0  \n",
       "1              1              0  \n",
       "2              1              0  \n",
       "\n",
       "[3 rows x 676 columns]"
      ]
     },
     "execution_count": 51,
     "metadata": {},
     "output_type": "execute_result"
    }
   ],
   "source": [
    "# conversion des valeurs booléennes en 0 et 1\n",
    "data_predictions['has_wifi'] = data_predictions.apply(encodage, col='has_wifi', axis=1)\n",
    "data_predictions['has_plug'] = data_predictions.apply(encodage, col='has_plug', axis=1)\n",
    "data_predictions['has_adjustable_seats'] = data_predictions.apply(encodage, col='has_adjustable_seats', axis=1)\n",
    "data_predictions['has_bicycle'] = data_predictions.apply(encodage, col='has_bicycle', axis=1)\n",
    "# encodage des variables catégorielles\n",
    "uniq_name_d = pd.get_dummies(data_predictions['unique_name_d'], prefix = 'destination')\n",
    "uniq_name_o = pd.get_dummies(data_predictions['unique_name_o'], prefix = 'origine')\n",
    "company_name = pd.get_dummies(data_predictions['fullname'], prefix = 'company')\n",
    "transport_type = pd.get_dummies(data_predictions['transport_type'], prefix = 'transport')\n",
    "category_distance = pd.get_dummies(data_predictions['category_distance'], prefix = 'distance')\n",
    "data_predictions.drop(['unique_name_d', 'unique_name_o', 'fullname', 'transport_type', 'category_distance'], axis=1,inplace=True)\n",
    "# dataset final\n",
    "new_data = pd.concat([data_predictions, uniq_name_d, uniq_name_o, company_name, transport_type, category_distance], axis = 1)\n",
    "new_data.head(3)"
   ]
  },
  {
   "cell_type": "markdown",
   "metadata": {},
   "source": [
    "### Séparation des features et du target"
   ]
  },
  {
   "cell_type": "code",
   "execution_count": 52,
   "metadata": {},
   "outputs": [],
   "source": [
    "X, y = new_data.drop('price_in_cents', axis=1), new_data['price_in_cents']"
   ]
  },
  {
   "cell_type": "code",
   "execution_count": 53,
   "metadata": {},
   "outputs": [],
   "source": [
    "X_train, X_test, y_train, y_test = train_test_split(X, y, test_size=0.2, random_state=0)"
   ]
  },
  {
   "cell_type": "code",
   "execution_count": 54,
   "metadata": {},
   "outputs": [
    {
     "name": "stdout",
     "output_type": "stream",
     "text": [
      "(59321, 675)\n",
      "(14831, 675)\n",
      "(59321,)\n",
      "(14831,)\n"
     ]
    }
   ],
   "source": [
    "print(X_train.shape)\n",
    "print(X_test.shape)\n",
    "print(y_train.shape)\n",
    "print(y_test.shape)"
   ]
  },
  {
   "cell_type": "markdown",
   "metadata": {},
   "source": [
    "### - Modèle de regression linéaire"
   ]
  },
  {
   "cell_type": "markdown",
   "metadata": {},
   "source": [
    "### Entrainement du modèle"
   ]
  },
  {
   "cell_type": "code",
   "execution_count": 69,
   "metadata": {},
   "outputs": [
    {
     "name": "stdout",
     "output_type": "stream",
     "text": [
      "0.7279350084602989 0.7149612275143931\n"
     ]
    }
   ],
   "source": [
    "model_reg = LinearRegression().fit(X_train, y_train)"
   ]
  },
  {
   "cell_type": "markdown",
   "metadata": {},
   "source": [
    "### Evaluation du modèle"
   ]
  },
  {
   "cell_type": "code",
   "execution_count": 76,
   "metadata": {},
   "outputs": [
    {
     "name": "stdout",
     "output_type": "stream",
     "text": [
      "0.7279350084602989 0.7149612275143931\n"
     ]
    }
   ],
   "source": [
    "R2 = model_reg.score(X_test, y_test)\n",
    "n=len(y_test)\n",
    "p=X_test.shape[1]\n",
    "adj_R2 = 1-(1-R2)*((n-1)/(n-p-1))\n",
    "print(R2, adj_R2)"
   ]
  },
  {
   "cell_type": "markdown",
   "metadata": {},
   "source": [
    "- 71% du prix du voyage peut être expliqué par le modèle"
   ]
  },
  {
   "cell_type": "code",
   "execution_count": 87,
   "metadata": {},
   "outputs": [
    {
     "name": "stdout",
     "output_type": "stream",
     "text": [
      "3794666.9833953087\n",
      "1947.9904987949271\n"
     ]
    }
   ],
   "source": [
    "y_pred_reg = model_reg.predict(X_test)\n",
    "print(mean_squared_error(y_test, y_pred_reg))\n",
    "print(math.sqrt(mean_squared_error(y_test, y_pred_reg)))"
   ]
  },
  {
   "cell_type": "markdown",
   "metadata": {},
   "source": [
    "### - Modèle de arbre de décision"
   ]
  },
  {
   "cell_type": "code",
   "execution_count": 83,
   "metadata": {},
   "outputs": [],
   "source": [
    "model_tree = DecisionTreeRegressor(random_state = 0).fit(X_train, y_train)"
   ]
  },
  {
   "cell_type": "code",
   "execution_count": 85,
   "metadata": {},
   "outputs": [
    {
     "name": "stdout",
     "output_type": "stream",
     "text": [
      "0.9148572859960974 0.9107971424459289\n"
     ]
    }
   ],
   "source": [
    "R2 = model_tree.score(X_test, y_test)\n",
    "n=len(y_test)\n",
    "p=X_test.shape[1]\n",
    "adj_R2 = 1-(1-R2)*((n-1)/(n-p-1))\n",
    "print(R2, adj_R2)"
   ]
  },
  {
   "cell_type": "markdown",
   "metadata": {},
   "source": [
    "- 91% du prix du voyage peut être expliqué par le modèle"
   ]
  },
  {
   "cell_type": "code",
   "execution_count": 88,
   "metadata": {},
   "outputs": [
    {
     "name": "stdout",
     "output_type": "stream",
     "text": [
      "1187540.682389237\n",
      "1089.743402085664\n"
     ]
    }
   ],
   "source": [
    "y_pred_tree = model_tree.predict(X_test) \n",
    "print(mean_squared_error(y_test, y_pred_tree))\n",
    "print(math.sqrt(mean_squared_error(y_test, y_pred_tree)))"
   ]
  },
  {
   "cell_type": "markdown",
   "metadata": {},
   "source": [
    "- Le modèle de décision Tree a eu de meilleurs résultats et semble plus fiable. "
   ]
  }
 ],
 "metadata": {
  "kernelspec": {
   "display_name": "Python 3",
   "language": "python",
   "name": "python3"
  },
  "language_info": {
   "codemirror_mode": {
    "name": "ipython",
    "version": 3
   },
   "file_extension": ".py",
   "mimetype": "text/x-python",
   "name": "python",
   "nbconvert_exporter": "python",
   "pygments_lexer": "ipython3",
   "version": "3.7.9"
  }
 },
 "nbformat": 4,
 "nbformat_minor": 4
}
