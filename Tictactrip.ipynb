{
 "cells": [
  {
   "cell_type": "markdown",
   "metadata": {},
   "source": [
    "## Importation des librairies"
   ]
  },
  {
   "cell_type": "code",
   "execution_count": 1,
   "metadata": {},
   "outputs": [],
   "source": [
    "import pandas as pd\n",
    "import numpy as np"
   ]
  },
  {
   "cell_type": "markdown",
   "metadata": {},
   "source": [
    "## Importation des données"
   ]
  },
  {
   "cell_type": "code",
   "execution_count": 2,
   "metadata": {},
   "outputs": [],
   "source": [
    "df_ticket = pd.read_csv('data/ticket_data.csv')\n",
    "df_cities = pd.read_csv('data/cities.csv')\n",
    "df_stations = pd.read_csv('data/stations.csv')\n",
    "df_providers = pd.read_csv('data/providers.csv')"
   ]
  },
  {
   "cell_type": "markdown",
   "metadata": {},
   "source": [
    "## 1) Informations sur les données"
   ]
  },
  {
   "cell_type": "markdown",
   "metadata": {},
   "source": [
    "### - Tickets"
   ]
  },
  {
   "cell_type": "code",
   "execution_count": 3,
   "metadata": {},
   "outputs": [
    {
     "data": {
      "text/plain": [
       "(74168, 12)"
      ]
     },
     "execution_count": 3,
     "metadata": {},
     "output_type": "execute_result"
    }
   ],
   "source": [
    "df_ticket.shape"
   ]
  },
  {
   "cell_type": "code",
   "execution_count": 4,
   "metadata": {},
   "outputs": [
    {
     "data": {
      "text/html": [
       "<div>\n",
       "<style scoped>\n",
       "    .dataframe tbody tr th:only-of-type {\n",
       "        vertical-align: middle;\n",
       "    }\n",
       "\n",
       "    .dataframe tbody tr th {\n",
       "        vertical-align: top;\n",
       "    }\n",
       "\n",
       "    .dataframe thead th {\n",
       "        text-align: right;\n",
       "    }\n",
       "</style>\n",
       "<table border=\"1\" class=\"dataframe\">\n",
       "  <thead>\n",
       "    <tr style=\"text-align: right;\">\n",
       "      <th></th>\n",
       "      <th>id</th>\n",
       "      <th>company</th>\n",
       "      <th>o_station</th>\n",
       "      <th>d_station</th>\n",
       "      <th>departure_ts</th>\n",
       "      <th>arrival_ts</th>\n",
       "      <th>price_in_cents</th>\n",
       "      <th>search_ts</th>\n",
       "      <th>middle_stations</th>\n",
       "      <th>other_companies</th>\n",
       "      <th>o_city</th>\n",
       "      <th>d_city</th>\n",
       "    </tr>\n",
       "  </thead>\n",
       "  <tbody>\n",
       "    <tr>\n",
       "      <th>65909</th>\n",
       "      <td>6860934</td>\n",
       "      <td>13</td>\n",
       "      <td>1121.0</td>\n",
       "      <td>876.0</td>\n",
       "      <td>2017-11-01 15:55:00+00</td>\n",
       "      <td>2017-11-03 09:50:00+00</td>\n",
       "      <td>7770</td>\n",
       "      <td>2017-10-17 23:26:31.624+00</td>\n",
       "      <td>{482,482,578,578}</td>\n",
       "      <td>{13,13}</td>\n",
       "      <td>884</td>\n",
       "      <td>635</td>\n",
       "    </tr>\n",
       "    <tr>\n",
       "      <th>21924</th>\n",
       "      <td>6816949</td>\n",
       "      <td>8385</td>\n",
       "      <td>NaN</td>\n",
       "      <td>NaN</td>\n",
       "      <td>2017-10-08 18:10:00+00</td>\n",
       "      <td>2017-10-08 20:10:00+00</td>\n",
       "      <td>1450</td>\n",
       "      <td>2017-10-07 07:21:19.388+00</td>\n",
       "      <td>NaN</td>\n",
       "      <td>NaN</td>\n",
       "      <td>227</td>\n",
       "      <td>485</td>\n",
       "    </tr>\n",
       "    <tr>\n",
       "      <th>4900</th>\n",
       "      <td>6799925</td>\n",
       "      <td>13</td>\n",
       "      <td>235.0</td>\n",
       "      <td>445.0</td>\n",
       "      <td>2017-10-13 10:10:00+00</td>\n",
       "      <td>2017-10-14 18:10:00+00</td>\n",
       "      <td>3000</td>\n",
       "      <td>2017-10-02 19:53:43.987+00</td>\n",
       "      <td>{458,458}</td>\n",
       "      <td>{13}</td>\n",
       "      <td>277</td>\n",
       "      <td>1088</td>\n",
       "    </tr>\n",
       "  </tbody>\n",
       "</table>\n",
       "</div>"
      ],
      "text/plain": [
       "            id  company  o_station  d_station            departure_ts  \\\n",
       "65909  6860934       13     1121.0      876.0  2017-11-01 15:55:00+00   \n",
       "21924  6816949     8385        NaN        NaN  2017-10-08 18:10:00+00   \n",
       "4900   6799925       13      235.0      445.0  2017-10-13 10:10:00+00   \n",
       "\n",
       "                   arrival_ts  price_in_cents                   search_ts  \\\n",
       "65909  2017-11-03 09:50:00+00            7770  2017-10-17 23:26:31.624+00   \n",
       "21924  2017-10-08 20:10:00+00            1450  2017-10-07 07:21:19.388+00   \n",
       "4900   2017-10-14 18:10:00+00            3000  2017-10-02 19:53:43.987+00   \n",
       "\n",
       "         middle_stations other_companies  o_city  d_city  \n",
       "65909  {482,482,578,578}         {13,13}     884     635  \n",
       "21924                NaN             NaN     227     485  \n",
       "4900           {458,458}            {13}     277    1088  "
      ]
     },
     "execution_count": 4,
     "metadata": {},
     "output_type": "execute_result"
    }
   ],
   "source": [
    "df_ticket.sample(3)"
   ]
  },
  {
   "cell_type": "markdown",
   "metadata": {},
   "source": [
    "Ce dataframe contient les informations sur les tickets de voyage telles que la station, la ville et l'heure où le voyageur a pris départ. Egalement nous retrouvons, la compagnie de transport qu'il a utilisé, les gares éventuelles où il est passé et d'autres compagnies qu'il a aussi potentiellement utilisé pour arriver à la station et ville de destination avec la précision de l'heure d'arrivée. Nous avons également dans les données le prix du ticket en cent et la date et l'heure de recherche de l'itinéraire. Enfin chaque donnée est identifiée de façon unique par un id."
   ]
  },
  {
   "cell_type": "code",
   "execution_count": 5,
   "metadata": {},
   "outputs": [
    {
     "name": "stdout",
     "output_type": "stream",
     "text": [
      "<class 'pandas.core.frame.DataFrame'>\n",
      "RangeIndex: 74168 entries, 0 to 74167\n",
      "Data columns (total 12 columns):\n",
      " #   Column           Non-Null Count  Dtype  \n",
      "---  ------           --------------  -----  \n",
      " 0   id               74168 non-null  int64  \n",
      " 1   company          74168 non-null  int64  \n",
      " 2   o_station        32727 non-null  float64\n",
      " 3   d_station        32727 non-null  float64\n",
      " 4   departure_ts     74168 non-null  object \n",
      " 5   arrival_ts       74168 non-null  object \n",
      " 6   price_in_cents   74168 non-null  int64  \n",
      " 7   search_ts        74168 non-null  object \n",
      " 8   middle_stations  32727 non-null  object \n",
      " 9   other_companies  32727 non-null  object \n",
      " 10  o_city           74168 non-null  int64  \n",
      " 11  d_city           74168 non-null  int64  \n",
      "dtypes: float64(2), int64(5), object(5)\n",
      "memory usage: 6.8+ MB\n"
     ]
    }
   ],
   "source": [
    "df_ticket.info()"
   ]
  },
  {
   "cell_type": "code",
   "execution_count": 6,
   "metadata": {},
   "outputs": [
    {
     "data": {
      "text/plain": [
       "id                     0\n",
       "company                0\n",
       "o_station          41441\n",
       "d_station          41441\n",
       "departure_ts           0\n",
       "arrival_ts             0\n",
       "price_in_cents         0\n",
       "search_ts              0\n",
       "middle_stations    41441\n",
       "other_companies    41441\n",
       "o_city                 0\n",
       "d_city                 0\n",
       "dtype: int64"
      ]
     },
     "execution_count": 6,
     "metadata": {},
     "output_type": "execute_result"
    }
   ],
   "source": [
    "df_ticket.isnull().sum()"
   ]
  },
  {
   "cell_type": "markdown",
   "metadata": {},
   "source": [
    "- Les attributs de temps n'ont pas le type adéquat, il faudra les transformer au préalable avant de pouvoir en tirer des informations utiles\n",
    "- Plus de la moitié des tickets achetés ne présentent pas la mention des stations de départ et celles d'arrivée. \n",
    "- Il en est de même pour les stations intermédiaires."
   ]
  },
  {
   "cell_type": "markdown",
   "metadata": {},
   "source": [
    "### - Cities"
   ]
  },
  {
   "cell_type": "code",
   "execution_count": 7,
   "metadata": {},
   "outputs": [
    {
     "data": {
      "text/plain": [
       "(8040, 6)"
      ]
     },
     "execution_count": 7,
     "metadata": {},
     "output_type": "execute_result"
    }
   ],
   "source": [
    "df_cities.shape"
   ]
  },
  {
   "cell_type": "code",
   "execution_count": 8,
   "metadata": {},
   "outputs": [
    {
     "data": {
      "text/html": [
       "<div>\n",
       "<style scoped>\n",
       "    .dataframe tbody tr th:only-of-type {\n",
       "        vertical-align: middle;\n",
       "    }\n",
       "\n",
       "    .dataframe tbody tr th {\n",
       "        vertical-align: top;\n",
       "    }\n",
       "\n",
       "    .dataframe thead th {\n",
       "        text-align: right;\n",
       "    }\n",
       "</style>\n",
       "<table border=\"1\" class=\"dataframe\">\n",
       "  <thead>\n",
       "    <tr style=\"text-align: right;\">\n",
       "      <th></th>\n",
       "      <th>id</th>\n",
       "      <th>local_name</th>\n",
       "      <th>unique_name</th>\n",
       "      <th>latitude</th>\n",
       "      <th>longitude</th>\n",
       "      <th>population</th>\n",
       "    </tr>\n",
       "  </thead>\n",
       "  <tbody>\n",
       "    <tr>\n",
       "      <th>1312</th>\n",
       "      <td>8477</td>\n",
       "      <td>Sainte Geneviève, Hauts-de-France, France</td>\n",
       "      <td>sainte-genevieve</td>\n",
       "      <td>49.71920</td>\n",
       "      <td>4.07360</td>\n",
       "      <td>NaN</td>\n",
       "    </tr>\n",
       "    <tr>\n",
       "      <th>4601</th>\n",
       "      <td>8662</td>\n",
       "      <td>Saint-Privat, Auvergne-Rhône-Alpes, France</td>\n",
       "      <td>saint-privat</td>\n",
       "      <td>44.62912</td>\n",
       "      <td>4.41021</td>\n",
       "      <td>NaN</td>\n",
       "    </tr>\n",
       "    <tr>\n",
       "      <th>3977</th>\n",
       "      <td>7865</td>\n",
       "      <td>Nançois - Tronville, Grand-Est, France</td>\n",
       "      <td>nancois---tronville</td>\n",
       "      <td>48.71789</td>\n",
       "      <td>5.29085</td>\n",
       "      <td>NaN</td>\n",
       "    </tr>\n",
       "  </tbody>\n",
       "</table>\n",
       "</div>"
      ],
      "text/plain": [
       "        id                                  local_name          unique_name  \\\n",
       "1312  8477   Sainte Geneviève, Hauts-de-France, France     sainte-genevieve   \n",
       "4601  8662  Saint-Privat, Auvergne-Rhône-Alpes, France         saint-privat   \n",
       "3977  7865      Nançois - Tronville, Grand-Est, France  nancois---tronville   \n",
       "\n",
       "      latitude  longitude  population  \n",
       "1312  49.71920    4.07360         NaN  \n",
       "4601  44.62912    4.41021         NaN  \n",
       "3977  48.71789    5.29085         NaN  "
      ]
     },
     "execution_count": 8,
     "metadata": {},
     "output_type": "execute_result"
    }
   ],
   "source": [
    "df_cities.sample(3)"
   ]
  },
  {
   "cell_type": "markdown",
   "metadata": {},
   "source": [
    "Nous retrouvons ici les informations sur les différentes villes convertes par les compagnies de transport. Chaque ville est identifiée de manière unique et est caractérisée par son nom local, son nom unique, ses coordonnées géographiques(latitude et longitude) ainsi que la taille de sa population."
   ]
  },
  {
   "cell_type": "code",
   "execution_count": 9,
   "metadata": {},
   "outputs": [
    {
     "name": "stdout",
     "output_type": "stream",
     "text": [
      "<class 'pandas.core.frame.DataFrame'>\n",
      "RangeIndex: 8040 entries, 0 to 8039\n",
      "Data columns (total 6 columns):\n",
      " #   Column       Non-Null Count  Dtype  \n",
      "---  ------       --------------  -----  \n",
      " 0   id           8040 non-null   int64  \n",
      " 1   local_name   8040 non-null   object \n",
      " 2   unique_name  8039 non-null   object \n",
      " 3   latitude     8040 non-null   float64\n",
      " 4   longitude    8040 non-null   float64\n",
      " 5   population   369 non-null    float64\n",
      "dtypes: float64(3), int64(1), object(2)\n",
      "memory usage: 377.0+ KB\n"
     ]
    }
   ],
   "source": [
    "df_cities.info()"
   ]
  },
  {
   "cell_type": "code",
   "execution_count": 10,
   "metadata": {},
   "outputs": [
    {
     "data": {
      "text/plain": [
       "id                0\n",
       "local_name        0\n",
       "unique_name       1\n",
       "latitude          0\n",
       "longitude         0\n",
       "population     7671\n",
       "dtype: int64"
      ]
     },
     "execution_count": 10,
     "metadata": {},
     "output_type": "execute_result"
    }
   ],
   "source": [
    "df_cities.isnull().sum()"
   ]
  },
  {
   "cell_type": "markdown",
   "metadata": {},
   "source": [
    "- La dénominaion unique d'une seule ville est manquante. \n",
    "- Cependant peu de populations sont renseignées (4.6%)"
   ]
  },
  {
   "cell_type": "code",
   "execution_count": 11,
   "metadata": {},
   "outputs": [
    {
     "data": {
      "text/html": [
       "<div>\n",
       "<style scoped>\n",
       "    .dataframe tbody tr th:only-of-type {\n",
       "        vertical-align: middle;\n",
       "    }\n",
       "\n",
       "    .dataframe tbody tr th {\n",
       "        vertical-align: top;\n",
       "    }\n",
       "\n",
       "    .dataframe thead th {\n",
       "        text-align: right;\n",
       "    }\n",
       "</style>\n",
       "<table border=\"1\" class=\"dataframe\">\n",
       "  <thead>\n",
       "    <tr style=\"text-align: right;\">\n",
       "      <th></th>\n",
       "      <th>id</th>\n",
       "      <th>latitude</th>\n",
       "      <th>longitude</th>\n",
       "      <th>population</th>\n",
       "    </tr>\n",
       "  </thead>\n",
       "  <tbody>\n",
       "    <tr>\n",
       "      <th>count</th>\n",
       "      <td>8040.000000</td>\n",
       "      <td>8040.000000</td>\n",
       "      <td>8040.000000</td>\n",
       "      <td>3.690000e+02</td>\n",
       "    </tr>\n",
       "    <tr>\n",
       "      <th>mean</th>\n",
       "      <td>6328.786816</td>\n",
       "      <td>47.223456</td>\n",
       "      <td>6.299331</td>\n",
       "      <td>3.360184e+05</td>\n",
       "    </tr>\n",
       "    <tr>\n",
       "      <th>std</th>\n",
       "      <td>3504.698537</td>\n",
       "      <td>3.700934</td>\n",
       "      <td>7.747070</td>\n",
       "      <td>5.840409e+05</td>\n",
       "    </tr>\n",
       "    <tr>\n",
       "      <th>min</th>\n",
       "      <td>1.000000</td>\n",
       "      <td>1.370676</td>\n",
       "      <td>-101.397388</td>\n",
       "      <td>1.000460e+05</td>\n",
       "    </tr>\n",
       "    <tr>\n",
       "      <th>25%</th>\n",
       "      <td>2501.500000</td>\n",
       "      <td>44.662402</td>\n",
       "      <td>1.214282</td>\n",
       "      <td>1.253750e+05</td>\n",
       "    </tr>\n",
       "    <tr>\n",
       "      <th>50%</th>\n",
       "      <td>7003.500000</td>\n",
       "      <td>47.304750</td>\n",
       "      <td>4.887856</td>\n",
       "      <td>1.803020e+05</td>\n",
       "    </tr>\n",
       "    <tr>\n",
       "      <th>75%</th>\n",
       "      <td>9014.250000</td>\n",
       "      <td>49.611998</td>\n",
       "      <td>10.311597</td>\n",
       "      <td>3.098690e+05</td>\n",
       "    </tr>\n",
       "    <tr>\n",
       "      <th>max</th>\n",
       "      <td>12192.000000</td>\n",
       "      <td>64.145981</td>\n",
       "      <td>48.731938</td>\n",
       "      <td>8.416535e+06</td>\n",
       "    </tr>\n",
       "  </tbody>\n",
       "</table>\n",
       "</div>"
      ],
      "text/plain": [
       "                 id     latitude    longitude    population\n",
       "count   8040.000000  8040.000000  8040.000000  3.690000e+02\n",
       "mean    6328.786816    47.223456     6.299331  3.360184e+05\n",
       "std     3504.698537     3.700934     7.747070  5.840409e+05\n",
       "min        1.000000     1.370676  -101.397388  1.000460e+05\n",
       "25%     2501.500000    44.662402     1.214282  1.253750e+05\n",
       "50%     7003.500000    47.304750     4.887856  1.803020e+05\n",
       "75%     9014.250000    49.611998    10.311597  3.098690e+05\n",
       "max    12192.000000    64.145981    48.731938  8.416535e+06"
      ]
     },
     "execution_count": 11,
     "metadata": {},
     "output_type": "execute_result"
    }
   ],
   "source": [
    "df_cities.describe()"
   ]
  },
  {
   "cell_type": "markdown",
   "metadata": {},
   "source": [
    "### - Stations"
   ]
  },
  {
   "cell_type": "code",
   "execution_count": 12,
   "metadata": {},
   "outputs": [
    {
     "data": {
      "text/plain": [
       "(11035, 4)"
      ]
     },
     "execution_count": 12,
     "metadata": {},
     "output_type": "execute_result"
    }
   ],
   "source": [
    "df_stations.shape"
   ]
  },
  {
   "cell_type": "code",
   "execution_count": 13,
   "metadata": {},
   "outputs": [
    {
     "data": {
      "text/html": [
       "<div>\n",
       "<style scoped>\n",
       "    .dataframe tbody tr th:only-of-type {\n",
       "        vertical-align: middle;\n",
       "    }\n",
       "\n",
       "    .dataframe tbody tr th {\n",
       "        vertical-align: top;\n",
       "    }\n",
       "\n",
       "    .dataframe thead th {\n",
       "        text-align: right;\n",
       "    }\n",
       "</style>\n",
       "<table border=\"1\" class=\"dataframe\">\n",
       "  <thead>\n",
       "    <tr style=\"text-align: right;\">\n",
       "      <th></th>\n",
       "      <th>id</th>\n",
       "      <th>unique_name</th>\n",
       "      <th>latitude</th>\n",
       "      <th>longitude</th>\n",
       "    </tr>\n",
       "  </thead>\n",
       "  <tbody>\n",
       "    <tr>\n",
       "      <th>8262</th>\n",
       "      <td>8263</td>\n",
       "      <td>Voivres</td>\n",
       "      <td>47.930590</td>\n",
       "      <td>0.085120</td>\n",
       "    </tr>\n",
       "    <tr>\n",
       "      <th>1238</th>\n",
       "      <td>1239</td>\n",
       "      <td>Ancona Hbf</td>\n",
       "      <td>43.607448</td>\n",
       "      <td>13.498059</td>\n",
       "    </tr>\n",
       "    <tr>\n",
       "      <th>1237</th>\n",
       "      <td>1238</td>\n",
       "      <td>Amstetten Bhf</td>\n",
       "      <td>48.121703</td>\n",
       "      <td>14.876022</td>\n",
       "    </tr>\n",
       "    <tr>\n",
       "      <th>8939</th>\n",
       "      <td>8940</td>\n",
       "      <td>Bludenz station</td>\n",
       "      <td>47.154992</td>\n",
       "      <td>9.815205</td>\n",
       "    </tr>\n",
       "    <tr>\n",
       "      <th>4557</th>\n",
       "      <td>4558</td>\n",
       "      <td>Chaumont Hopital</td>\n",
       "      <td>48.111300</td>\n",
       "      <td>5.139900</td>\n",
       "    </tr>\n",
       "  </tbody>\n",
       "</table>\n",
       "</div>"
      ],
      "text/plain": [
       "        id       unique_name   latitude  longitude\n",
       "8262  8263           Voivres  47.930590   0.085120\n",
       "1238  1239        Ancona Hbf  43.607448  13.498059\n",
       "1237  1238     Amstetten Bhf  48.121703  14.876022\n",
       "8939  8940   Bludenz station  47.154992   9.815205\n",
       "4557  4558  Chaumont Hopital  48.111300   5.139900"
      ]
     },
     "execution_count": 13,
     "metadata": {},
     "output_type": "execute_result"
    }
   ],
   "source": [
    "df_stations.sample(5)"
   ]
  },
  {
   "cell_type": "markdown",
   "metadata": {},
   "source": [
    "Le dataframe df_stations décrit les différentes stations où chacune d'elle est identifiée de façon unique par un id. Ces dernières sont caractérisées par un nom unique et leur position géographique (latitude et longitude)."
   ]
  },
  {
   "cell_type": "code",
   "execution_count": 14,
   "metadata": {},
   "outputs": [
    {
     "name": "stdout",
     "output_type": "stream",
     "text": [
      "<class 'pandas.core.frame.DataFrame'>\n",
      "RangeIndex: 11035 entries, 0 to 11034\n",
      "Data columns (total 4 columns):\n",
      " #   Column       Non-Null Count  Dtype  \n",
      "---  ------       --------------  -----  \n",
      " 0   id           11035 non-null  int64  \n",
      " 1   unique_name  11035 non-null  object \n",
      " 2   latitude     11035 non-null  float64\n",
      " 3   longitude    11035 non-null  float64\n",
      "dtypes: float64(2), int64(1), object(1)\n",
      "memory usage: 345.0+ KB\n"
     ]
    }
   ],
   "source": [
    "df_stations.info()"
   ]
  },
  {
   "cell_type": "markdown",
   "metadata": {},
   "source": [
    "- Toutes les valeurs sont renseignées pour les stations"
   ]
  },
  {
   "cell_type": "markdown",
   "metadata": {},
   "source": [
    "### - Providers"
   ]
  },
  {
   "cell_type": "code",
   "execution_count": 15,
   "metadata": {},
   "outputs": [
    {
     "data": {
      "text/plain": [
       "(227, 10)"
      ]
     },
     "execution_count": 15,
     "metadata": {},
     "output_type": "execute_result"
    }
   ],
   "source": [
    "df_providers.shape"
   ]
  },
  {
   "cell_type": "code",
   "execution_count": 16,
   "metadata": {},
   "outputs": [
    {
     "data": {
      "text/html": [
       "<div>\n",
       "<style scoped>\n",
       "    .dataframe tbody tr th:only-of-type {\n",
       "        vertical-align: middle;\n",
       "    }\n",
       "\n",
       "    .dataframe tbody tr th {\n",
       "        vertical-align: top;\n",
       "    }\n",
       "\n",
       "    .dataframe thead th {\n",
       "        text-align: right;\n",
       "    }\n",
       "</style>\n",
       "<table border=\"1\" class=\"dataframe\">\n",
       "  <thead>\n",
       "    <tr style=\"text-align: right;\">\n",
       "      <th></th>\n",
       "      <th>id</th>\n",
       "      <th>company_id</th>\n",
       "      <th>provider_id</th>\n",
       "      <th>name</th>\n",
       "      <th>fullname</th>\n",
       "      <th>has_wifi</th>\n",
       "      <th>has_plug</th>\n",
       "      <th>has_adjustable_seats</th>\n",
       "      <th>has_bicycle</th>\n",
       "      <th>transport_type</th>\n",
       "    </tr>\n",
       "  </thead>\n",
       "  <tbody>\n",
       "    <tr>\n",
       "      <th>132</th>\n",
       "      <td>146</td>\n",
       "      <td>9</td>\n",
       "      <td>451</td>\n",
       "      <td>sombat</td>\n",
       "      <td>Sombat</td>\n",
       "      <td>False</td>\n",
       "      <td>False</td>\n",
       "      <td>False</td>\n",
       "      <td>False</td>\n",
       "      <td>bus</td>\n",
       "    </tr>\n",
       "    <tr>\n",
       "      <th>97</th>\n",
       "      <td>111</td>\n",
       "      <td>9</td>\n",
       "      <td>381</td>\n",
       "      <td>komtarGunungRaya</td>\n",
       "      <td>Komtar Gunung Raya</td>\n",
       "      <td>False</td>\n",
       "      <td>False</td>\n",
       "      <td>False</td>\n",
       "      <td>False</td>\n",
       "      <td>bus</td>\n",
       "    </tr>\n",
       "    <tr>\n",
       "      <th>209</th>\n",
       "      <td>8371</td>\n",
       "      <td>20</td>\n",
       "      <td>I</td>\n",
       "      <td>isilines</td>\n",
       "      <td>Isilines</td>\n",
       "      <td>True</td>\n",
       "      <td>True</td>\n",
       "      <td>True</td>\n",
       "      <td>False</td>\n",
       "      <td>bus</td>\n",
       "    </tr>\n",
       "    <tr>\n",
       "      <th>215</th>\n",
       "      <td>8377</td>\n",
       "      <td>10</td>\n",
       "      <td>2</td>\n",
       "      <td>corailintercite</td>\n",
       "      <td>Intercités</td>\n",
       "      <td>False</td>\n",
       "      <td>False</td>\n",
       "      <td>True</td>\n",
       "      <td>False</td>\n",
       "      <td>train</td>\n",
       "    </tr>\n",
       "    <tr>\n",
       "      <th>125</th>\n",
       "      <td>139</td>\n",
       "      <td>9</td>\n",
       "      <td>437</td>\n",
       "      <td>sappaisal</td>\n",
       "      <td>Sappaisal</td>\n",
       "      <td>False</td>\n",
       "      <td>False</td>\n",
       "      <td>False</td>\n",
       "      <td>False</td>\n",
       "      <td>bus</td>\n",
       "    </tr>\n",
       "  </tbody>\n",
       "</table>\n",
       "</div>"
      ],
      "text/plain": [
       "       id  company_id provider_id              name            fullname  \\\n",
       "132   146           9         451            sombat              Sombat   \n",
       "97    111           9         381  komtarGunungRaya  Komtar Gunung Raya   \n",
       "209  8371          20           I          isilines            Isilines   \n",
       "215  8377          10           2   corailintercite          Intercités   \n",
       "125   139           9         437         sappaisal           Sappaisal   \n",
       "\n",
       "    has_wifi has_plug has_adjustable_seats has_bicycle transport_type  \n",
       "132    False    False                False       False            bus  \n",
       "97     False    False                False       False            bus  \n",
       "209     True     True                 True       False            bus  \n",
       "215    False    False                 True       False          train  \n",
       "125    False    False                False       False            bus  "
      ]
     },
     "execution_count": 16,
     "metadata": {},
     "output_type": "execute_result"
    }
   ],
   "source": [
    "df_providers.sample(5)"
   ]
  },
  {
   "cell_type": "markdown",
   "metadata": {},
   "source": [
    "Les providers sont des sous-compagnies comme mentionné dans l'énoncé. Chaque provider possède un identifiant qui lui est propre, l'identifiant de sa compagnie mère ainsi qu'un identifiant qui représente la combinaison d'une compagnie avec chacun de ses providers. Les providers ont des caractéristiques telles qu'un nom et un nom complet. Les informations sur la présence de wifi, de prises, de sièges ajustables à bord des véhicules sont disponibles. Egalement nous avons la mention d'une présence d'un service de vélo et celle du type du véhicule de transport."
   ]
  },
  {
   "cell_type": "code",
   "execution_count": 17,
   "metadata": {},
   "outputs": [
    {
     "name": "stdout",
     "output_type": "stream",
     "text": [
      "<class 'pandas.core.frame.DataFrame'>\n",
      "RangeIndex: 227 entries, 0 to 226\n",
      "Data columns (total 10 columns):\n",
      " #   Column                Non-Null Count  Dtype \n",
      "---  ------                --------------  ----- \n",
      " 0   id                    227 non-null    int64 \n",
      " 1   company_id            227 non-null    int64 \n",
      " 2   provider_id           213 non-null    object\n",
      " 3   name                  227 non-null    object\n",
      " 4   fullname              227 non-null    object\n",
      " 5   has_wifi              224 non-null    object\n",
      " 6   has_plug              224 non-null    object\n",
      " 7   has_adjustable_seats  224 non-null    object\n",
      " 8   has_bicycle           224 non-null    object\n",
      " 9   transport_type        227 non-null    object\n",
      "dtypes: int64(2), object(8)\n",
      "memory usage: 17.9+ KB\n"
     ]
    }
   ],
   "source": [
    "df_providers.info()"
   ]
  },
  {
   "cell_type": "markdown",
   "metadata": {},
   "source": [
    "- Ici également presque toutes les données sur les providers sont remplies.\n",
    "- Seules 3 observations présentent des valeurs manquantes sur la présence de wifi, de prise, de sièges ajustables ou de vélo."
   ]
  },
  {
   "cell_type": "markdown",
   "metadata": {},
   "source": [
    "## 2) Extraction des informations"
   ]
  },
  {
   "cell_type": "markdown",
   "metadata": {},
   "source": [
    "### Prix minimum"
   ]
  },
  {
   "cell_type": "code",
   "execution_count": 18,
   "metadata": {},
   "outputs": [
    {
     "data": {
      "text/plain": [
       "300"
      ]
     },
     "execution_count": 18,
     "metadata": {},
     "output_type": "execute_result"
    }
   ],
   "source": [
    "df_ticket['price_in_cents'].min()"
   ]
  },
  {
   "cell_type": "markdown",
   "metadata": {},
   "source": [
    "### Prix moyen "
   ]
  },
  {
   "cell_type": "code",
   "execution_count": 19,
   "metadata": {},
   "outputs": [
    {
     "data": {
      "text/plain": [
       "4382.711061374178"
      ]
     },
     "execution_count": 19,
     "metadata": {},
     "output_type": "execute_result"
    }
   ],
   "source": [
    "df_ticket['price_in_cents'].mean()"
   ]
  },
  {
   "cell_type": "markdown",
   "metadata": {},
   "source": [
    "### Prix maximum"
   ]
  },
  {
   "cell_type": "code",
   "execution_count": 20,
   "metadata": {},
   "outputs": [
    {
     "data": {
      "text/plain": [
       "38550"
      ]
     },
     "execution_count": 20,
     "metadata": {},
     "output_type": "execute_result"
    }
   ],
   "source": [
    "df_ticket['price_in_cents'].max()"
   ]
  },
  {
   "cell_type": "markdown",
   "metadata": {},
   "source": [
    "- Ces informations sont aussi retrouvables directement avec la méthode describe. \n",
    "- La moyenne des prix des tickets est d'environ 44 euros, le ticket le moins cher étant à 3 euros et le moins élevé à environ 385 euros\n",
    "- Regardons la distribution des données de cette colonne avec un boxplot et un histogramme."
   ]
  },
  {
   "cell_type": "code",
   "execution_count": 21,
   "metadata": {},
   "outputs": [
    {
     "data": {
      "text/plain": [
       "<AxesSubplot:>"
      ]
     },
     "execution_count": 21,
     "metadata": {},
     "output_type": "execute_result"
    },
    {
     "data": {
      "image/png": "[encoded data removed]",
      "text/plain": [
       "<Figure size 360x576 with 1 Axes>"
      ]
     },
     "metadata": {
      "needs_background": "light"
     },
     "output_type": "display_data"
    }
   ],
   "source": [
    "df_ticket.boxplot(figsize=(5,8),column=['price_in_cents'])"
   ]
  },
  {
   "cell_type": "code",
   "execution_count": 22,
   "metadata": {},
   "outputs": [
    {
     "data": {
      "text/plain": [
       "array([[<AxesSubplot:title={'center':'price_in_cents'}>]], dtype=object)"
      ]
     },
     "execution_count": 22,
     "metadata": {},
     "output_type": "execute_result"
    },
    {
     "data": {
      "image/png": "[encoded data removed]",
      "text/plain": [
       "<Figure size 432x288 with 1 Axes>"
      ]
     },
     "metadata": {
      "needs_background": "light"
     },
     "output_type": "display_data"
    }
   ],
   "source": [
    "df_ticket.hist(column=['price_in_cents'])"
   ]
  },
  {
   "cell_type": "markdown",
   "metadata": {},
   "source": [
    "- La grande variété au niveau des prix est encore plus visible ainsi que la présence d'un grand nombre d'outliers. Ces derniers faussent un peu la moyenne en la tirant vers une valeur plus haute"
   ]
  },
  {
   "cell_type": "markdown",
   "metadata": {},
   "source": [
    "### Durée minimum par trajet"
   ]
  },
  {
   "cell_type": "markdown",
   "metadata": {},
   "source": [
    "Comme nous l'avions précédemment anoncés, les données de type temps doivent être converties, après quoi nous pouvons faire la différence des temps d'arrivée et de départ sur toutes les données."
   ]
  },
  {
   "cell_type": "code",
   "execution_count": 23,
   "metadata": {},
   "outputs": [
    {
     "data": {
      "text/plain": [
       "0       0 days 06:10:00\n",
       "1       0 days 17:50:00\n",
       "2       1 days 07:57:00\n",
       "3       0 days 21:35:00\n",
       "4       0 days 21:46:00\n",
       "              ...      \n",
       "74163   0 days 13:30:00\n",
       "74164   0 days 06:30:00\n",
       "74165   0 days 06:45:00\n",
       "74166   0 days 07:45:00\n",
       "74167   0 days 06:55:00\n",
       "Length: 74168, dtype: timedelta64[ns]"
      ]
     },
     "execution_count": 23,
     "metadata": {},
     "output_type": "execute_result"
    }
   ],
   "source": [
    "departure_converted = pd.to_datetime(df_ticket['departure_ts'])\n",
    "arrival_converted   = pd.to_datetime(df_ticket['arrival_ts'])\n",
    "duree = arrival_converted - departure_converted\n",
    "duree"
   ]
  },
  {
   "cell_type": "code",
   "execution_count": 24,
   "metadata": {},
   "outputs": [
    {
     "data": {
      "text/plain": [
       "Timedelta('0 days 00:20:00')"
      ]
     },
     "execution_count": 24,
     "metadata": {},
     "output_type": "execute_result"
    }
   ],
   "source": [
    "duree_min = duree.min()\n",
    "duree_min"
   ]
  },
  {
   "cell_type": "markdown",
   "metadata": {},
   "source": [
    "### Durée maximum par trajet"
   ]
  },
  {
   "cell_type": "code",
   "execution_count": 25,
   "metadata": {},
   "outputs": [
    {
     "data": {
      "text/plain": [
       "Timedelta('20 days 12:51:00')"
      ]
     },
     "execution_count": 25,
     "metadata": {},
     "output_type": "execute_result"
    }
   ],
   "source": [
    "duree_max = duree.max()\n",
    "duree_max"
   ]
  },
  {
   "cell_type": "markdown",
   "metadata": {},
   "source": [
    "### Durée moyenne par trajet"
   ]
  },
  {
   "cell_type": "code",
   "execution_count": 26,
   "metadata": {},
   "outputs": [
    {
     "data": {
      "text/plain": [
       "Timedelta('0 days 07:04:37.247600043')"
      ]
     },
     "execution_count": 26,
     "metadata": {},
     "output_type": "execute_result"
    }
   ],
   "source": [
    "duree_mean = duree.mean()\n",
    "duree_mean"
   ]
  },
  {
   "cell_type": "markdown",
   "metadata": {},
   "source": [
    "- Les temps de voyage peuvent varier de 20 mn à 20 jours, avec une moyenne d'environ 7 heures.\n",
    "- Les temps et les prix des voyages dépendent naturellemnt du type de transport et de la distance à parcourir."
   ]
  },
  {
   "cell_type": "markdown",
   "metadata": {},
   "source": [
    "### - Différence de prix moyen et durée selon le train, le bus et le covoit selon la distance du trajet (0-200km, 201-800km, 800-2000km, 2000+km) "
   ]
  },
  {
   "cell_type": "markdown",
   "metadata": {},
   "source": [
    "#### Créons une table qui regroupe toutes les informations indispensables dont on a besoin "
   ]
  },
  {
   "cell_type": "code",
   "execution_count": 27,
   "metadata": {},
   "outputs": [],
   "source": [
    "new_ticket = df_ticket.drop(['o_station', 'd_station', 'search_ts', 'middle_stations','other_companies'], axis=1)\n",
    "new_city   = df_cities.drop(['population'], axis=1)\n",
    "new_provider = df_providers.drop(['has_wifi', 'has_plug', 'has_adjustable_seats', 'has_bicycle'], axis=1)"
   ]
  },
  {
   "cell_type": "markdown",
   "metadata": {},
   "source": [
    "- Nous avons dans un premier temps selectionné les variables dont on a besoin dans de nouveaux dataframes afin de faciliter la visualisation du dataframe final . Après quoi, nous faisons un merge en utilisant les attributs liant les différents dataframes(par exemple 'o_city' dans new_ticket et 'id' new_city)"
   ]
  },
  {
   "cell_type": "code",
   "execution_count": 28,
   "metadata": {},
   "outputs": [
    {
     "data": {
      "text/html": [
       "<div>\n",
       "<style scoped>\n",
       "    .dataframe tbody tr th:only-of-type {\n",
       "        vertical-align: middle;\n",
       "    }\n",
       "\n",
       "    .dataframe tbody tr th {\n",
       "        vertical-align: top;\n",
       "    }\n",
       "\n",
       "    .dataframe thead th {\n",
       "        text-align: right;\n",
       "    }\n",
       "</style>\n",
       "<table border=\"1\" class=\"dataframe\">\n",
       "  <thead>\n",
       "    <tr style=\"text-align: right;\">\n",
       "      <th></th>\n",
       "      <th>arrival_ts</th>\n",
       "      <th>departure_ts</th>\n",
       "      <th>id_ticket</th>\n",
       "      <th>latitude_d</th>\n",
       "      <th>latitude_o</th>\n",
       "      <th>local_name_d</th>\n",
       "      <th>local_name_o</th>\n",
       "      <th>longitude_d</th>\n",
       "      <th>longitude_o</th>\n",
       "      <th>price_in_cents</th>\n",
       "      <th>unique_name_d</th>\n",
       "      <th>unique_name_o</th>\n",
       "      <th>name</th>\n",
       "      <th>fullname</th>\n",
       "      <th>transport_type</th>\n",
       "    </tr>\n",
       "  </thead>\n",
       "  <tbody>\n",
       "    <tr>\n",
       "      <th>11989</th>\n",
       "      <td>2017-10-20 17:50:00+00</td>\n",
       "      <td>2017-10-20 12:30:00+00</td>\n",
       "      <td>6857048</td>\n",
       "      <td>45.764043</td>\n",
       "      <td>48.847702</td>\n",
       "      <td>Lyon, Auvergne-Rhône-Alpes, France</td>\n",
       "      <td>Paris, Île-de-France, France</td>\n",
       "      <td>4.835659</td>\n",
       "      <td>2.352311</td>\n",
       "      <td>3800</td>\n",
       "      <td>lyon</td>\n",
       "      <td>paris</td>\n",
       "      <td>bbc</td>\n",
       "      <td>Blablacar</td>\n",
       "      <td>carpooling</td>\n",
       "    </tr>\n",
       "    <tr>\n",
       "      <th>565</th>\n",
       "      <td>2017-10-07 10:30:00+00</td>\n",
       "      <td>2017-10-07 09:00:00+00</td>\n",
       "      <td>6815458</td>\n",
       "      <td>48.847702</td>\n",
       "      <td>47.907018</td>\n",
       "      <td>Paris, Île-de-France, France</td>\n",
       "      <td>Orléans, Centre-Val de Loire, France</td>\n",
       "      <td>2.352311</td>\n",
       "      <td>1.906270</td>\n",
       "      <td>950</td>\n",
       "      <td>paris</td>\n",
       "      <td>orleans</td>\n",
       "      <td>bbc</td>\n",
       "      <td>Blablacar</td>\n",
       "      <td>carpooling</td>\n",
       "    </tr>\n",
       "    <tr>\n",
       "      <th>67440</th>\n",
       "      <td>2017-10-21 11:48:00+00</td>\n",
       "      <td>2017-10-21 05:41:00+00</td>\n",
       "      <td>6860717</td>\n",
       "      <td>49.443232</td>\n",
       "      <td>48.574241</td>\n",
       "      <td>Rouen, Normandie, France</td>\n",
       "      <td>Strasbourg, Grand-Est, France</td>\n",
       "      <td>1.099971</td>\n",
       "      <td>7.754260</td>\n",
       "      <td>9410</td>\n",
       "      <td>rouen</td>\n",
       "      <td>strasbourg</td>\n",
       "      <td>tgv</td>\n",
       "      <td>TGV</td>\n",
       "      <td>train</td>\n",
       "    </tr>\n",
       "  </tbody>\n",
       "</table>\n",
       "</div>"
      ],
      "text/plain": [
       "                   arrival_ts            departure_ts  id_ticket  latitude_d  \\\n",
       "11989  2017-10-20 17:50:00+00  2017-10-20 12:30:00+00    6857048   45.764043   \n",
       "565    2017-10-07 10:30:00+00  2017-10-07 09:00:00+00    6815458   48.847702   \n",
       "67440  2017-10-21 11:48:00+00  2017-10-21 05:41:00+00    6860717   49.443232   \n",
       "\n",
       "       latitude_o                        local_name_d  \\\n",
       "11989   48.847702  Lyon, Auvergne-Rhône-Alpes, France   \n",
       "565     47.907018        Paris, Île-de-France, France   \n",
       "67440   48.574241            Rouen, Normandie, France   \n",
       "\n",
       "                               local_name_o  longitude_d  longitude_o  \\\n",
       "11989          Paris, Île-de-France, France     4.835659     2.352311   \n",
       "565    Orléans, Centre-Val de Loire, France     2.352311     1.906270   \n",
       "67440         Strasbourg, Grand-Est, France     1.099971     7.754260   \n",
       "\n",
       "       price_in_cents unique_name_d unique_name_o name   fullname  \\\n",
       "11989            3800          lyon         paris  bbc  Blablacar   \n",
       "565               950         paris       orleans  bbc  Blablacar   \n",
       "67440            9410         rouen    strasbourg  tgv        TGV   \n",
       "\n",
       "      transport_type  \n",
       "11989     carpooling  \n",
       "565       carpooling  \n",
       "67440          train  "
      ]
     },
     "execution_count": 28,
     "metadata": {},
     "output_type": "execute_result"
    }
   ],
   "source": [
    "df_merged = (pd.merge(new_ticket, new_city, left_on='o_city', right_on='id', how='inner', suffixes=('_ticket', '_city'))\n",
    "        .merge(new_city, left_on='d_city', right_on='id', how='inner', suffixes=('_o', '_d'))\n",
    "        .sort_index(axis=1)\n",
    "        .drop(['id', 'd_city', 'id_city', 'o_city'], axis=1, errors='ignore')\n",
    "        .merge(new_provider, left_on='company', right_on='id', how='inner')\n",
    "        .drop(['company', 'id', 'company_id', 'provider_id'], axis=1, errors='ignore')\n",
    "     )\n",
    "df_merged.sample(3)"
   ]
  },
  {
   "cell_type": "markdown",
   "metadata": {},
   "source": [
    "#### - Création d'une colonne distance trajet qui contient la distance parcourue lors d'un voyage "
   ]
  },
  {
   "cell_type": "markdown",
   "metadata": {},
   "source": [
    "- Nous allons utiliser les coordonnées des villes puisque celles des stations comportent beaucoup de valeurs manquantes.\n",
    "- La distance entre deux villes va se calculer en utilisant la formule de Haversine qui calcule la plus petite distance entre deux points sur une sphère."
   ]
  },
  {
   "cell_type": "code",
   "execution_count": 29,
   "metadata": {},
   "outputs": [],
   "source": [
    "from math import sin, cos, asin, radians, sqrt\n",
    "\n",
    "def distance(origine, destination):\n",
    "    '''Fonction de calcul de la distance entre deux zones géographiques'''\n",
    "    # coordonnées des points de départ et d'arrivée\n",
    "    latitude1, longitude1 = origine\n",
    "    latitude2, longitude2 = destination\n",
    "    # conversion des coordonnées en radian\n",
    "    latitude1, longitude1, latitude2, longitude2 = map(radians, [latitude1, longitude1, latitude2, longitude2])\n",
    "    # rayon de la terre\n",
    "    rayon = 6371\n",
    "    # difference des coordonées des deux points de départ, nécessaire à la formule de haversine\n",
    "    distance_latitude  = latitude2-latitude1\n",
    "    distance_longitude = longitude2-longitude1\n",
    "    # formule de Haversine \n",
    "    h = sin(distance_latitude/2)**2 + cos(latitude1)*cos(latitude2)*(sin(distance_longitude/2))**2\n",
    "    # distance entre les deux points en kilomètre\n",
    "    dk = 2*rayon*asin(sqrt(h))\n",
    "    return dk"
   ]
  },
  {
   "cell_type": "code",
   "execution_count": 30,
   "metadata": {},
   "outputs": [],
   "source": [
    "def calcul_distance(row):  \n",
    "    '''Fonction qui permet de créer une nouvelle colonne comportant \n",
    "       les distances calculées entre la ville de départ et celle d\"arrivée\n",
    "    '''\n",
    "    val = distance((row['latitude_o'], row['longitude_o']), (row['latitude_d'], row['longitude_d']))\n",
    "    return val\n",
    "\n",
    "# application de la fonction au dataframe\n",
    "df_merged['distance'] = df_merged.apply(calcul_distance, axis=1)"
   ]
  },
  {
   "cell_type": "code",
   "execution_count": 31,
   "metadata": {},
   "outputs": [],
   "source": [
    "def category_distance(row):  \n",
    "    ''' Fonction qui permet de créer une nouvelle colonne \n",
    "        regroupant les distances en fonction des catégories suivantes\n",
    "          cat1 --> (0-200km)\n",
    "          cat2 --> (200-800km)\n",
    "          cat3 --> (800-2000km)\n",
    "          cat4 --> (2000+km)\n",
    "    '''\n",
    "    if row['distance'] > 0 and row['distance'] <= 200:\n",
    "        val = 'cat1' \n",
    "    elif row['distance'] > 200 and row['distance'] <= 800:\n",
    "        val = 'cat2'\n",
    "    elif row['distance'] > 800 and row['distance'] <= 2000:\n",
    "        val = 'cat3' \n",
    "    elif row['distance'] > 2000:\n",
    "        val = 'cat4'\n",
    "    return val\n",
    "\n",
    "# application de la fonction au dataframe\n",
    "df_merged['category_distance'] = df_merged.apply(category_distance, axis=1)"
   ]
  },
  {
   "cell_type": "code",
   "execution_count": 32,
   "metadata": {},
   "outputs": [],
   "source": [
    "# cette opération est la même que celle réalisée dans la première question\n",
    "# nous faisons juste en sorte de stocker le résulat en secondes dans une \n",
    "# colonne pour faciliter les opérations ultérieures.\n",
    "\n",
    "def calcul_temps(row):  \n",
    "    '''Fonction qui permet de calculer le temps mis entre le départ et l'arrivée d'un voyage'''\n",
    "    \n",
    "    val = pd.to_datetime(row['arrival_ts']) - pd.to_datetime(row['departure_ts'])\n",
    "    return val/np.timedelta64(1, 's')\n",
    "\n",
    "# application de la fonction au dataframe\n",
    "df_merged['duree_voyage'] = df_merged.apply(calcul_temps, axis=1)"
   ]
  },
  {
   "cell_type": "code",
   "execution_count": 33,
   "metadata": {},
   "outputs": [
    {
     "data": {
      "text/html": [
       "<div>\n",
       "<style scoped>\n",
       "    .dataframe tbody tr th:only-of-type {\n",
       "        vertical-align: middle;\n",
       "    }\n",
       "\n",
       "    .dataframe tbody tr th {\n",
       "        vertical-align: top;\n",
       "    }\n",
       "\n",
       "    .dataframe thead th {\n",
       "        text-align: right;\n",
       "    }\n",
       "</style>\n",
       "<table border=\"1\" class=\"dataframe\">\n",
       "  <thead>\n",
       "    <tr style=\"text-align: right;\">\n",
       "      <th></th>\n",
       "      <th>arrival_ts</th>\n",
       "      <th>departure_ts</th>\n",
       "      <th>id_ticket</th>\n",
       "      <th>latitude_d</th>\n",
       "      <th>latitude_o</th>\n",
       "      <th>local_name_d</th>\n",
       "      <th>local_name_o</th>\n",
       "      <th>longitude_d</th>\n",
       "      <th>longitude_o</th>\n",
       "      <th>price_in_cents</th>\n",
       "      <th>unique_name_d</th>\n",
       "      <th>unique_name_o</th>\n",
       "      <th>name</th>\n",
       "      <th>fullname</th>\n",
       "      <th>transport_type</th>\n",
       "      <th>distance</th>\n",
       "      <th>category_distance</th>\n",
       "      <th>duree_voyage</th>\n",
       "    </tr>\n",
       "  </thead>\n",
       "  <tbody>\n",
       "    <tr>\n",
       "      <th>27964</th>\n",
       "      <td>2017-10-13 19:00:00+00</td>\n",
       "      <td>2017-10-13 16:00:00+00</td>\n",
       "      <td>6827310</td>\n",
       "      <td>43.613299</td>\n",
       "      <td>44.833570</td>\n",
       "      <td>Toulouse, Occitanie, France</td>\n",
       "      <td>Bordeaux, Nouvelle-Aquitaine, France</td>\n",
       "      <td>1.452226</td>\n",
       "      <td>-0.573845</td>\n",
       "      <td>1800</td>\n",
       "      <td>toulouse</td>\n",
       "      <td>bordeaux</td>\n",
       "      <td>bbc</td>\n",
       "      <td>Blablacar</td>\n",
       "      <td>carpooling</td>\n",
       "      <td>210.882599</td>\n",
       "      <td>cat2</td>\n",
       "      <td>10800.0</td>\n",
       "    </tr>\n",
       "    <tr>\n",
       "      <th>53755</th>\n",
       "      <td>2017-10-21 04:25:00+00</td>\n",
       "      <td>2017-10-20 15:35:00+00</td>\n",
       "      <td>6835968</td>\n",
       "      <td>45.770780</td>\n",
       "      <td>49.176438</td>\n",
       "      <td>Clermont-Ferrand, Auvergne-Rhône-Alpes, France</td>\n",
       "      <td>Caen, Normandie, France</td>\n",
       "      <td>3.082300</td>\n",
       "      <td>-0.347647</td>\n",
       "      <td>6280</td>\n",
       "      <td>clermont-ferrand</td>\n",
       "      <td>caen</td>\n",
       "      <td>flixbus</td>\n",
       "      <td>Flixbus</td>\n",
       "      <td>bus</td>\n",
       "      <td>458.001632</td>\n",
       "      <td>cat2</td>\n",
       "      <td>46200.0</td>\n",
       "    </tr>\n",
       "    <tr>\n",
       "      <th>35322</th>\n",
       "      <td>2017-10-07 22:30:00+00</td>\n",
       "      <td>2017-10-07 21:00:00+00</td>\n",
       "      <td>6816451</td>\n",
       "      <td>47.907018</td>\n",
       "      <td>48.847702</td>\n",
       "      <td>Orléans, Centre-Val de Loire, France</td>\n",
       "      <td>Paris, Île-de-France, France</td>\n",
       "      <td>1.906270</td>\n",
       "      <td>2.352311</td>\n",
       "      <td>950</td>\n",
       "      <td>orleans</td>\n",
       "      <td>paris</td>\n",
       "      <td>bbc</td>\n",
       "      <td>Blablacar</td>\n",
       "      <td>carpooling</td>\n",
       "      <td>109.663930</td>\n",
       "      <td>cat1</td>\n",
       "      <td>5400.0</td>\n",
       "    </tr>\n",
       "  </tbody>\n",
       "</table>\n",
       "</div>"
      ],
      "text/plain": [
       "                   arrival_ts            departure_ts  id_ticket  latitude_d  \\\n",
       "27964  2017-10-13 19:00:00+00  2017-10-13 16:00:00+00    6827310   43.613299   \n",
       "53755  2017-10-21 04:25:00+00  2017-10-20 15:35:00+00    6835968   45.770780   \n",
       "35322  2017-10-07 22:30:00+00  2017-10-07 21:00:00+00    6816451   47.907018   \n",
       "\n",
       "       latitude_o                                    local_name_d  \\\n",
       "27964   44.833570                     Toulouse, Occitanie, France   \n",
       "53755   49.176438  Clermont-Ferrand, Auvergne-Rhône-Alpes, France   \n",
       "35322   48.847702            Orléans, Centre-Val de Loire, France   \n",
       "\n",
       "                               local_name_o  longitude_d  longitude_o  \\\n",
       "27964  Bordeaux, Nouvelle-Aquitaine, France     1.452226    -0.573845   \n",
       "53755               Caen, Normandie, France     3.082300    -0.347647   \n",
       "35322          Paris, Île-de-France, France     1.906270     2.352311   \n",
       "\n",
       "       price_in_cents     unique_name_d unique_name_o     name   fullname  \\\n",
       "27964            1800          toulouse      bordeaux      bbc  Blablacar   \n",
       "53755            6280  clermont-ferrand          caen  flixbus    Flixbus   \n",
       "35322             950           orleans         paris      bbc  Blablacar   \n",
       "\n",
       "      transport_type    distance category_distance  duree_voyage  \n",
       "27964     carpooling  210.882599              cat2       10800.0  \n",
       "53755            bus  458.001632              cat2       46200.0  \n",
       "35322     carpooling  109.663930              cat1        5400.0  "
      ]
     },
     "execution_count": 33,
     "metadata": {},
     "output_type": "execute_result"
    }
   ],
   "source": [
    "df_merged.sample(3)"
   ]
  },
  {
   "cell_type": "markdown",
   "metadata": {},
   "source": [
    "### Différence de prix moyen selon le train, le bus et le covoit selon la distance du trajet (0-200km, 201-800km, 800-2000km, 2000+km) "
   ]
  },
  {
   "cell_type": "markdown",
   "metadata": {},
   "source": [
    "- Pour avoir les informations dont nous avons besoin nous allons d'abord : regrouper les données par type de transport et par categorie de distance et créer une nouvelle colonne comportant le prix moyen\n",
    "- Cependant il serait mieux d'avoir les types de transport d'un côté et les catégories de l'autre pour une visualisation plus facile et agréable. Nous allons donc faire un pivot du dataframe pour avoir les types de transport en colonnes, les valeurs des prix moyens ou durées moyennes comme données et les catégories de distance comme index. \n",
    "- Le code entier est le suivant sous forme de fonction:"
   ]
  },
  {
   "cell_type": "code",
   "execution_count": 60,
   "metadata": {},
   "outputs": [],
   "source": [
    "def indicateur_moyen(dataframe, indicateur_nom, indicateur_colonne):\n",
    "    return (dataframe\n",
    "              .groupby(['transport_type', 'category_distance'])\n",
    "              .apply(lambda x: pd.Series({indicateur_nom: x[indicateur_colonne].mean()}))\n",
    "              .pivot_table(\n",
    "                    columns='transport_type',\n",
    "                    values=indicateur_nom,\n",
    "                    index=['category_distance'],\n",
    "                ))"
   ]
  },
  {
   "cell_type": "code",
   "execution_count": 100,
   "metadata": {},
   "outputs": [
    {
     "data": {
      "text/html": [
       "<div>\n",
       "<style scoped>\n",
       "    .dataframe tbody tr th:only-of-type {\n",
       "        vertical-align: middle;\n",
       "    }\n",
       "\n",
       "    .dataframe tbody tr th {\n",
       "        vertical-align: top;\n",
       "    }\n",
       "\n",
       "    .dataframe thead th {\n",
       "        text-align: right;\n",
       "    }\n",
       "</style>\n",
       "<table border=\"1\" class=\"dataframe\">\n",
       "  <thead>\n",
       "    <tr style=\"text-align: right;\">\n",
       "      <th>transport_type</th>\n",
       "      <th>bus</th>\n",
       "      <th>carpooling</th>\n",
       "      <th>train</th>\n",
       "    </tr>\n",
       "    <tr>\n",
       "      <th>category_distance</th>\n",
       "      <th></th>\n",
       "      <th></th>\n",
       "      <th></th>\n",
       "    </tr>\n",
       "  </thead>\n",
       "  <tbody>\n",
       "    <tr>\n",
       "      <th>cat1</th>\n",
       "      <td>2182.830918</td>\n",
       "      <td>1177.352385</td>\n",
       "      <td>3487.900779</td>\n",
       "    </tr>\n",
       "    <tr>\n",
       "      <th>cat2</th>\n",
       "      <td>3494.850022</td>\n",
       "      <td>3218.064310</td>\n",
       "      <td>9124.779489</td>\n",
       "    </tr>\n",
       "    <tr>\n",
       "      <th>cat3</th>\n",
       "      <td>6949.950045</td>\n",
       "      <td>8626.545455</td>\n",
       "      <td>15463.746130</td>\n",
       "    </tr>\n",
       "  </tbody>\n",
       "</table>\n",
       "</div>"
      ],
      "text/plain": [
       "transport_type             bus   carpooling         train\n",
       "category_distance                                        \n",
       "cat1               2182.830918  1177.352385   3487.900779\n",
       "cat2               3494.850022  3218.064310   9124.779489\n",
       "cat3               6949.950045  8626.545455  15463.746130"
      ]
     },
     "execution_count": 100,
     "metadata": {},
     "output_type": "execute_result"
    }
   ],
   "source": [
    "diff_prix = indicateur_moyen(df_merged, 'prix', 'price_in_cents')\n",
    "diff_prix"
   ]
  },
  {
   "cell_type": "markdown",
   "metadata": {},
   "source": [
    "- Nous pouvons constater que pour les trajets les plus courts(0-200km) et (201-800km), le covoiturage revient moins cher en moyenne suivi du bus.\n",
    "- Pour les voyages de 800 à 2000km cependant, le bus est en moyenne l'option la moins chère suivie du covoiturage.\n",
    "- Dans tous les cas, le train est toujours plus coûteux."
   ]
  },
  {
   "cell_type": "markdown",
   "metadata": {},
   "source": [
    "### Différence de durée selon le train, le bus et le covoit selon la distance du trajet (0-200km, 201-800km, 800-2000km, 2000+km) "
   ]
  },
  {
   "cell_type": "code",
   "execution_count": 101,
   "metadata": {},
   "outputs": [
    {
     "data": {
      "text/html": [
       "<div>\n",
       "<style scoped>\n",
       "    .dataframe tbody tr th:only-of-type {\n",
       "        vertical-align: middle;\n",
       "    }\n",
       "\n",
       "    .dataframe tbody tr th {\n",
       "        vertical-align: top;\n",
       "    }\n",
       "\n",
       "    .dataframe thead th {\n",
       "        text-align: right;\n",
       "    }\n",
       "</style>\n",
       "<table border=\"1\" class=\"dataframe\">\n",
       "  <thead>\n",
       "    <tr style=\"text-align: right;\">\n",
       "      <th>transport_type</th>\n",
       "      <th>bus</th>\n",
       "      <th>carpooling</th>\n",
       "      <th>train</th>\n",
       "    </tr>\n",
       "    <tr>\n",
       "      <th>category_distance</th>\n",
       "      <th></th>\n",
       "      <th></th>\n",
       "      <th></th>\n",
       "    </tr>\n",
       "  </thead>\n",
       "  <tbody>\n",
       "    <tr>\n",
       "      <th>cat1</th>\n",
       "      <td>36837.053140</td>\n",
       "      <td>7027.342428</td>\n",
       "      <td>15909.840098</td>\n",
       "    </tr>\n",
       "    <tr>\n",
       "      <th>cat2</th>\n",
       "      <td>54269.269315</td>\n",
       "      <td>17147.272436</td>\n",
       "      <td>27639.543515</td>\n",
       "    </tr>\n",
       "    <tr>\n",
       "      <th>cat3</th>\n",
       "      <td>99130.027248</td>\n",
       "      <td>47160.839161</td>\n",
       "      <td>43771.021672</td>\n",
       "    </tr>\n",
       "  </tbody>\n",
       "</table>\n",
       "</div>"
      ],
      "text/plain": [
       "transport_type              bus    carpooling         train\n",
       "category_distance                                          \n",
       "cat1               36837.053140   7027.342428  15909.840098\n",
       "cat2               54269.269315  17147.272436  27639.543515\n",
       "cat3               99130.027248  47160.839161  43771.021672"
      ]
     },
     "execution_count": 101,
     "metadata": {},
     "output_type": "execute_result"
    }
   ],
   "source": [
    "diff_temps = indicateur_moyen(df_merged, 'duree', 'duree_voyage')\n",
    "diff_temps"
   ]
  },
  {
   "cell_type": "markdown",
   "metadata": {},
   "source": [
    "- Concernant la durée moyenne des voyages, le covoiturage est le moyen le plus rapide en moyenne, suivi du train pour les distances de 0 à 200km et ceux de plus de 200 à 800km\n",
    "- Pour les voyages plus longs de 800 à 2000km, le train est néanmoins plus rapide en général, suivi du covoiturage.\n",
    "- Dans toutes les catégories de distance le bus prend plus de temps"
   ]
  },
  {
   "cell_type": "code",
   "execution_count": 113,
   "metadata": {},
   "outputs": [],
   "source": [
    "def best_transport(dataframe, f_ind_moyen, ind_nom, ind_colonne, dist_cat):\n",
    "    '''Fonction qui propose le meilleur type de transport selon l'indicateur \n",
    "       que l'utilisateur choisit (coût moyen ou durée moyenne du trajet) en \n",
    "       fonction de la catégorie de distance à parcourir \n",
    "    '''\n",
    "    new_data = f_ind_moyen(dataframe, ind_nom, ind_colonne)\n",
    "    new_data_cat = new_data.loc[dist_cat]\n",
    "    best_trans = new_data_cat[new_data_cat == new_data_cat.min()].index\n",
    "    message_s = 'Le meilleur type de transport pour la distance que vous avez à parcourir est le '\n",
    "    message_p = 'Les meilleurs types de transport pour la distance que vous avez à parcourir sont '\n",
    "    if len(best_trans) == 1:\n",
    "        print(message_s)\n",
    "    else : \n",
    "        print(message_p)\n",
    "    for i in best_trans:\n",
    "        print(i)"
   ]
  },
  {
   "cell_type": "code",
   "execution_count": 114,
   "metadata": {},
   "outputs": [
    {
     "name": "stdout",
     "output_type": "stream",
     "text": [
      "Le meilleur type de transport pour la distance que vous avez à parcourir est le \n",
      "train\n"
     ]
    }
   ],
   "source": [
    "best_transport(df_merged, indicateur_moyen, 'duree', 'duree_voyage', 'cat3')"
   ]
  },
  {
   "cell_type": "code",
   "execution_count": 115,
   "metadata": {},
   "outputs": [
    {
     "name": "stdout",
     "output_type": "stream",
     "text": [
      "Le meilleur type de transport pour la distance que vous avez à parcourir est le \n",
      "carpooling\n"
     ]
    }
   ],
   "source": [
    "best_transport(df_merged, indicateur_moyen, 'duree', 'duree_voyage', 'cat2')"
   ]
  },
  {
   "cell_type": "raw",
   "metadata": {},
   "source": []
  }
 ],
 "metadata": {
  "kernelspec": {
   "display_name": "Python 3",
   "language": "python",
   "name": "python3"
  },
  "language_info": {
   "codemirror_mode": {
    "name": "ipython",
    "version": 3
   },
   "file_extension": ".py",
   "mimetype": "text/x-python",
   "name": "python",
   "nbconvert_exporter": "python",
   "pygments_lexer": "ipython3",
   "version": "3.7.9"
  }
 },
 "nbformat": 4,
 "nbformat_minor": 4
}
